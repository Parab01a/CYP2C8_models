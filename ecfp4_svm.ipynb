{
 "cells": [
  {
   "cell_type": "code",
   "execution_count": 54,
   "id": "e9ecab24-96c6-45c0-9fcb-67d5fb74dd9e",
   "metadata": {},
   "outputs": [],
   "source": [
    "from rdkit import Chem\n",
    "import pandas as pd"
   ]
  },
  {
   "cell_type": "code",
   "execution_count": 55,
   "id": "28a1ca7b-fa45-463e-89c3-7c6e4f3781a7",
   "metadata": {},
   "outputs": [],
   "source": [
    "df = pd.read_csv(\"zhang_test.csv\")"
   ]
  },
  {
   "cell_type": "code",
   "execution_count": 56,
   "id": "e3534476-7db0-481f-a394-d673c9287099",
   "metadata": {},
   "outputs": [],
   "source": [
    "def out_sdf(lig_list, filename):\n",
    "    writer = Chem.SDWriter(filename)\n",
    "    for i in lig_list:\n",
    "        writer.write(i)\n",
    "    writer.close()\n",
    "    return"
   ]
  },
  {
   "cell_type": "code",
   "execution_count": 57,
   "id": "999b920d-5833-441b-afed-ebc50933727c",
   "metadata": {},
   "outputs": [
    {
     "name": "stdout",
     "output_type": "stream",
     "text": [
      "0 have been processed\n"
     ]
    },
    {
     "data": {
      "text/plain": [
       "533"
      ]
     },
     "execution_count": 57,
     "metadata": {},
     "output_type": "execute_result"
    }
   ],
   "source": [
    "cpd_list = []\n",
    "for idx, row in df.iterrows():\n",
    "    if idx % 5000 == 0:\n",
    "        print(idx, 'have been processed')\n",
    "    try:\n",
    "        smi = row['SMILES']\n",
    "        mol = Chem.MolFromSmiles(smi)\n",
    "        for prop in df.columns:\n",
    "            prop_value = str(row[prop])\n",
    "            mol.SetProp(prop, prop_value)\n",
    "    except Exception as e:\n",
    "        print(idx, e)\n",
    "    cpd_list.append(mol)\n",
    "len(cpd_list)"
   ]
  },
  {
   "cell_type": "code",
   "execution_count": 58,
   "id": "6ce0f814-9f66-4dc1-ba04-a56f98b099fb",
   "metadata": {},
   "outputs": [],
   "source": [
    "out_sdf(cpd_list, '2c8.sdf')"
   ]
  },
  {
   "cell_type": "code",
   "execution_count": 59,
   "id": "e381c7aa-4a52-412c-9a9b-d6351a07383e",
   "metadata": {},
   "outputs": [],
   "source": [
    "from rdkit.Chem import AllChem, DataStructs\n",
    "import numpy as np\n",
    "from sklearn.model_selection import train_test_split"
   ]
  },
  {
   "cell_type": "code",
   "execution_count": 60,
   "id": "23b46888-1401-45a8-8e26-5611ed450e26",
   "metadata": {},
   "outputs": [],
   "source": [
    "fname = '2c8.sdf'"
   ]
  },
  {
   "cell_type": "code",
   "execution_count": 61,
   "id": "68d53f4e-25ff-483f-a3b2-386cb53b579a",
   "metadata": {},
   "outputs": [],
   "source": [
    "mols = []\n",
    "y = []\n",
    "for mol in Chem.SDMolSupplier(fname):\n",
    "    mols.append(mol)\n",
    "    y.append(mol.GetIntProp('CLASS'))"
   ]
  },
  {
   "cell_type": "code",
   "execution_count": 62,
   "id": "bf6cf5e7-387d-4fc3-99c8-8baaa649fafb",
   "metadata": {},
   "outputs": [],
   "source": [
    "seed = 42"
   ]
  },
  {
   "cell_type": "code",
   "execution_count": 96,
   "id": "a3f7c312-fada-44d6-ba61-b354e63febb4",
   "metadata": {},
   "outputs": [],
   "source": [
    "x_trainval_mol, x_test_mol, y_trainval, y_test = train_test_split(mols, y, test_size=0.2, random_state=seed)"
   ]
  },
  {
   "cell_type": "code",
   "execution_count": 97,
   "id": "1b62fca9-9074-4116-9471-3ee95930bce0",
   "metadata": {},
   "outputs": [],
   "source": [
    "x_train_mol, x_valid_mol, y_train, y_valid = train_test_split(x_trainval_mol, y_trainval, test_size=0.2, random_state=seed)"
   ]
  },
  {
   "cell_type": "code",
   "execution_count": 1579,
   "id": "d4e6ebb0-35ae-4397-a4a3-1e4f3d2bf262",
   "metadata": {},
   "outputs": [
    {
     "data": {
      "text/plain": [
       "340"
      ]
     },
     "execution_count": 1579,
     "metadata": {},
     "output_type": "execute_result"
    }
   ],
   "source": [
    "len(x_train_mol)"
   ]
  },
  {
   "cell_type": "code",
   "execution_count": 99,
   "id": "c41e05d3-bc1d-47d7-8534-a1cec76b6c2f",
   "metadata": {},
   "outputs": [
    {
     "data": {
      "text/plain": [
       "107"
      ]
     },
     "execution_count": 99,
     "metadata": {},
     "output_type": "execute_result"
    }
   ],
   "source": [
    "len(x_test_mol)"
   ]
  },
  {
   "cell_type": "code",
   "execution_count": 100,
   "id": "632a185d-bddc-431e-b20d-a01a46588b0f",
   "metadata": {},
   "outputs": [
    {
     "data": {
      "text/plain": [
       "86"
      ]
     },
     "execution_count": 100,
     "metadata": {},
     "output_type": "execute_result"
    }
   ],
   "source": [
    "len(x_valid_mol)"
   ]
  },
  {
   "cell_type": "code",
   "execution_count": 101,
   "id": "265de03a-9e96-4f79-9508-54cd7e6e8940",
   "metadata": {},
   "outputs": [],
   "source": [
    "def mol_to_smiles(mols):\n",
    "    smiles = []\n",
    "    for mol in mols:\n",
    "        s = Chem.MolToSmiles(mol)\n",
    "        smiles.append(s)\n",
    "    return np.asarray(smiles)"
   ]
  },
  {
   "cell_type": "code",
   "execution_count": 102,
   "id": "fbe1753d-87c2-46c9-9a24-8245dd5b7485",
   "metadata": {},
   "outputs": [],
   "source": [
    "x_train_smiles = mol_to_smiles(x_train_mol)"
   ]
  },
  {
   "cell_type": "code",
   "execution_count": 104,
   "id": "845999bb-71a8-4ecd-a830-33e5fff5f8bb",
   "metadata": {},
   "outputs": [],
   "source": [
    "x_test_smiles = mol_to_smiles(x_test_mol)"
   ]
  },
  {
   "cell_type": "code",
   "execution_count": 105,
   "id": "c0ad8b54-8792-4213-975a-c2552d67d915",
   "metadata": {},
   "outputs": [],
   "source": [
    "x_valid_smiles = mol_to_smiles(x_valid_mol)"
   ]
  },
  {
   "cell_type": "code",
   "execution_count": 108,
   "id": "bb3152be-b6db-472c-bae8-3c5bd84086d7",
   "metadata": {},
   "outputs": [],
   "source": [
    "fp1 = [AllChem.GetMorganFingerprintAsBitVect(m1, 2) for m1 in x_train_mol]"
   ]
  },
  {
   "cell_type": "code",
   "execution_count": 110,
   "id": "d4417210-4410-4b99-8059-aa259b30bcc2",
   "metadata": {},
   "outputs": [],
   "source": [
    "fp2 = [AllChem.GetMorganFingerprintAsBitVect(m2, 2) for m2 in x_test_mol]"
   ]
  },
  {
   "cell_type": "code",
   "execution_count": 111,
   "id": "08892325-f165-46b4-b113-11f71e677de5",
   "metadata": {},
   "outputs": [],
   "source": [
    "fp3 = [AllChem.GetMorganFingerprintAsBitVect(m3, 2) for m3 in x_valid_mol]"
   ]
  },
  {
   "cell_type": "code",
   "execution_count": 112,
   "id": "b7cb2ab2-3250-462c-aca0-f8b28f47b4d9",
   "metadata": {},
   "outputs": [],
   "source": [
    "def rdkit_numpy_convert(fp):\n",
    "    output = []\n",
    "    for f in fp:\n",
    "        arr = np.zeros([1,])\n",
    "        DataStructs.ConvertToNumpyArray(f, arr)\n",
    "        output.append(arr)\n",
    "    return np.asarray(output)"
   ]
  },
  {
   "cell_type": "code",
   "execution_count": 113,
   "id": "90548a63-8e64-42bb-b084-2e29ff89900f",
   "metadata": {},
   "outputs": [],
   "source": [
    "x_train = rdkit_numpy_convert(fp1)"
   ]
  },
  {
   "cell_type": "code",
   "execution_count": 1581,
   "id": "a4430d3e-f0b5-4ae4-9dcc-19959ed1a5b8",
   "metadata": {},
   "outputs": [
    {
     "data": {
      "text/plain": [
       "['x_train_ecfp4.pkl']"
      ]
     },
     "execution_count": 1581,
     "metadata": {},
     "output_type": "execute_result"
    }
   ],
   "source": [
    "dump(x_train, 'x_train_ecfp4.pkl', compress=3)"
   ]
  },
  {
   "cell_type": "code",
   "execution_count": 114,
   "id": "fb3334df-4da5-4e4e-a364-3586edc568a4",
   "metadata": {},
   "outputs": [],
   "source": [
    "x_test = rdkit_numpy_convert(fp2)"
   ]
  },
  {
   "cell_type": "code",
   "execution_count": 1582,
   "id": "95b48c2d-f874-4377-bc28-f12d9d46139a",
   "metadata": {},
   "outputs": [
    {
     "data": {
      "text/plain": [
       "['x_test_ecfp4.pkl']"
      ]
     },
     "execution_count": 1582,
     "metadata": {},
     "output_type": "execute_result"
    }
   ],
   "source": [
    "dump(x_test, 'x_test_ecfp4.pkl', compress=3)"
   ]
  },
  {
   "cell_type": "code",
   "execution_count": 115,
   "id": "08ecea24-085f-4e6e-af6c-29c237f0446c",
   "metadata": {},
   "outputs": [],
   "source": [
    "x_valid = rdkit_numpy_convert(fp3)"
   ]
  },
  {
   "cell_type": "code",
   "execution_count": 1583,
   "id": "9b787759-14e9-41ff-9e30-5fd4feca3816",
   "metadata": {},
   "outputs": [
    {
     "data": {
      "text/plain": [
       "['x_valid_ecfp4.pkl']"
      ]
     },
     "execution_count": 1583,
     "metadata": {},
     "output_type": "execute_result"
    }
   ],
   "source": [
    "dump(x_valid, 'x_valid_ecfp4.pkl', compress=3)"
   ]
  },
  {
   "cell_type": "code",
   "execution_count": 125,
   "id": "d4e824c4-6db0-4e1f-8ff4-5d853d192abf",
   "metadata": {},
   "outputs": [],
   "source": [
    "from sklearn.model_selection import StratifiedKFold, GridSearchCV"
   ]
  },
  {
   "cell_type": "code",
   "execution_count": 126,
   "id": "0d062bcd-9bf0-4d51-9b5c-95354fffbb36",
   "metadata": {},
   "outputs": [
    {
     "name": "stderr",
     "output_type": "stream",
     "text": [
      "D:\\Anaconda3\\envs\\deepchem\\lib\\site-packages\\sklearn\\model_selection\\_split.py:296: FutureWarning: Setting a random_state has no effect since shuffle is False. This will raise an error in 0.24. You should leave random_state to its default (None), or set shuffle=True.\n",
      "  FutureWarning\n"
     ]
    }
   ],
   "source": [
    "cv = StratifiedKFold(n_splits=10, random_state=seed)"
   ]
  },
  {
   "cell_type": "code",
   "execution_count": 127,
   "id": "914aac3a-5399-4dc3-9a39-6a63390a31ec",
   "metadata": {},
   "outputs": [],
   "source": [
    "from sklearn.preprocessing import StandardScaler"
   ]
  },
  {
   "cell_type": "code",
   "execution_count": 128,
   "id": "28d750e8-57d3-4777-b6fd-f0d44c221cf3",
   "metadata": {},
   "outputs": [],
   "source": [
    "scale = StandardScaler().fit(x_train)\n",
    "x_train_scaled = scale.transform(x_train)\n",
    "x_test_scaled = scale.transform(x_test)\n",
    "x_valid_scaled = scale.transform(x_valid)"
   ]
  },
  {
   "cell_type": "code",
   "execution_count": 584,
   "id": "fd3168d8-bc85-4bd4-99ee-61922f64ae7b",
   "metadata": {},
   "outputs": [],
   "source": [
    "from joblib import dump, load"
   ]
  },
  {
   "cell_type": "code",
   "execution_count": 135,
   "id": "84a10177-a9e9-4dc0-922c-d07060a9ddc6",
   "metadata": {},
   "outputs": [],
   "source": [
    "from sklearn.svm import SVC"
   ]
  },
  {
   "cell_type": "code",
   "execution_count": 138,
   "id": "80c836b6-bb2a-4792-91bf-cc6265917ca4",
   "metadata": {},
   "outputs": [],
   "source": [
    "param_grid = {'C': [10**i for i in range(-6, 6)],\n",
    "             'gamma': [10**i for i in range(-6, 6)]}"
   ]
  },
  {
   "cell_type": "code",
   "execution_count": 147,
   "id": "9454ef3b-0430-4afd-9765-12221ab40f3d",
   "metadata": {},
   "outputs": [],
   "source": [
    "svm = GridSearchCV(SVC(kernel='rbf', class_weight='balanced', probability=True, random_state=seed), param_grid=param_grid, cv=cv, n_jobs=-1, verbose=1)"
   ]
  },
  {
   "cell_type": "code",
   "execution_count": 148,
   "id": "e043b37e-03e2-4ba7-8653-3b6e1b19929f",
   "metadata": {},
   "outputs": [
    {
     "name": "stdout",
     "output_type": "stream",
     "text": [
      "Fitting 10 folds for each of 144 candidates, totalling 1440 fits\n"
     ]
    },
    {
     "name": "stderr",
     "output_type": "stream",
     "text": [
      "[Parallel(n_jobs=-1)]: Using backend LokyBackend with 20 concurrent workers.\n",
      "[Parallel(n_jobs=-1)]: Done  10 tasks      | elapsed:    4.8s\n",
      "[Parallel(n_jobs=-1)]: Done 160 tasks      | elapsed:   24.6s\n",
      "[Parallel(n_jobs=-1)]: Done 410 tasks      | elapsed:   58.0s\n",
      "[Parallel(n_jobs=-1)]: Done 760 tasks      | elapsed:  1.7min\n",
      "[Parallel(n_jobs=-1)]: Done 1210 tasks      | elapsed:  2.7min\n",
      "[Parallel(n_jobs=-1)]: Done 1440 out of 1440 | elapsed:  3.2min finished\n"
     ]
    },
    {
     "data": {
      "text/plain": [
       "GridSearchCV(cv=StratifiedKFold(n_splits=10, random_state=42, shuffle=False),\n",
       "             error_score=nan,\n",
       "             estimator=SVC(C=1.0, break_ties=False, cache_size=200,\n",
       "                           class_weight='balanced', coef0=0.0,\n",
       "                           decision_function_shape='ovr', degree=3,\n",
       "                           gamma='scale', kernel='rbf', max_iter=-1,\n",
       "                           probability=True, random_state=42, shrinking=True,\n",
       "                           tol=0.001, verbose=False),\n",
       "             iid='deprecated', n_jobs=-1,\n",
       "             param_grid={'C': [1e-06, 1e-05, 0.0001, 0.001, 0.01, 0.1, 1, 10,\n",
       "                               100, 1000, 10000, 100000],\n",
       "                         'gamma': [1e-06, 1e-05, 0.0001, 0.001, 0.01, 0.1, 1,\n",
       "                                   10, 100, 1000, 10000, 100000]},\n",
       "             pre_dispatch='2*n_jobs', refit=True, return_train_score=False,\n",
       "             scoring=None, verbose=1)"
      ]
     },
     "execution_count": 148,
     "metadata": {},
     "output_type": "execute_result"
    }
   ],
   "source": [
    "svm.fit(x_train_scaled, y_train)"
   ]
  },
  {
   "cell_type": "code",
   "execution_count": 149,
   "id": "818af30f-aa87-42d5-9735-a3aab2606dbf",
   "metadata": {},
   "outputs": [
    {
     "data": {
      "text/plain": [
       "{'C': 10, 'gamma': 0.0001}"
      ]
     },
     "execution_count": 149,
     "metadata": {},
     "output_type": "execute_result"
    }
   ],
   "source": [
    "svm.best_params_"
   ]
  },
  {
   "cell_type": "code",
   "execution_count": 150,
   "id": "2207041c-778a-4b13-9e11-e6e69c96d183",
   "metadata": {},
   "outputs": [
    {
     "data": {
      "text/plain": [
       "0.7617647058823529"
      ]
     },
     "execution_count": 150,
     "metadata": {},
     "output_type": "execute_result"
    }
   ],
   "source": [
    "svm.best_score_"
   ]
  },
  {
   "cell_type": "code",
   "execution_count": 576,
   "id": "23f044d7-af11-47b6-9958-7cf21410cad3",
   "metadata": {},
   "outputs": [],
   "source": [
    "param_grid1 = {'C': np.arange(1, 11, 0.1)}"
   ]
  },
  {
   "cell_type": "code",
   "execution_count": 200,
   "id": "2245c125-2030-4b7b-b228-599b20a00eec",
   "metadata": {},
   "outputs": [],
   "source": [
    "svm = GridSearchCV(SVC(kernel='rbf', class_weight='balanced', probability=True, random_state=seed, gamma=0.0001), param_grid=param_grid1, cv=cv, n_jobs=-1, verbose=1)"
   ]
  },
  {
   "cell_type": "code",
   "execution_count": 201,
   "id": "bf249a14-3533-4ba1-8546-ea1a25ea6e30",
   "metadata": {},
   "outputs": [
    {
     "name": "stdout",
     "output_type": "stream",
     "text": [
      "Fitting 10 folds for each of 100 candidates, totalling 1000 fits\n"
     ]
    },
    {
     "name": "stderr",
     "output_type": "stream",
     "text": [
      "[Parallel(n_jobs=-1)]: Using backend LokyBackend with 20 concurrent workers.\n",
      "[Parallel(n_jobs=-1)]: Done  10 tasks      | elapsed:    3.3s\n",
      "[Parallel(n_jobs=-1)]: Done 160 tasks      | elapsed:   25.9s\n",
      "[Parallel(n_jobs=-1)]: Done 410 tasks      | elapsed:  1.1min\n",
      "[Parallel(n_jobs=-1)]: Done 760 tasks      | elapsed:  1.9min\n",
      "[Parallel(n_jobs=-1)]: Done 1000 out of 1000 | elapsed:  2.4min finished\n"
     ]
    },
    {
     "data": {
      "text/plain": [
       "GridSearchCV(cv=StratifiedKFold(n_splits=10, random_state=42, shuffle=False),\n",
       "             error_score=nan,\n",
       "             estimator=SVC(C=1.0, break_ties=False, cache_size=200,\n",
       "                           class_weight='balanced', coef0=0.0,\n",
       "                           decision_function_shape='ovr', degree=3,\n",
       "                           gamma=0.0001, kernel='rbf', max_iter=-1,\n",
       "                           probability=True, random_state=42, shrinking=True,\n",
       "                           tol=0.001, verbose=False),\n",
       "             iid='deprecated', n_jobs...\n",
       "        4.3,  4.4,  4.5,  4.6,  4.7,  4.8,  4.9,  5. ,  5.1,  5.2,  5.3,\n",
       "        5.4,  5.5,  5.6,  5.7,  5.8,  5.9,  6. ,  6.1,  6.2,  6.3,  6.4,\n",
       "        6.5,  6.6,  6.7,  6.8,  6.9,  7. ,  7.1,  7.2,  7.3,  7.4,  7.5,\n",
       "        7.6,  7.7,  7.8,  7.9,  8. ,  8.1,  8.2,  8.3,  8.4,  8.5,  8.6,\n",
       "        8.7,  8.8,  8.9,  9. ,  9.1,  9.2,  9.3,  9.4,  9.5,  9.6,  9.7,\n",
       "        9.8,  9.9, 10. , 10.1, 10.2, 10.3, 10.4, 10.5, 10.6, 10.7, 10.8,\n",
       "       10.9])},\n",
       "             pre_dispatch='2*n_jobs', refit=True, return_train_score=False,\n",
       "             scoring=None, verbose=1)"
      ]
     },
     "execution_count": 201,
     "metadata": {},
     "output_type": "execute_result"
    }
   ],
   "source": [
    "svm.fit(x_train_scaled, y_train)"
   ]
  },
  {
   "cell_type": "code",
   "execution_count": 202,
   "id": "5ea328bd-5a88-4448-8135-42aedbe2e1e1",
   "metadata": {},
   "outputs": [
    {
     "data": {
      "text/plain": [
       "{'C': 1.4000000000000004}"
      ]
     },
     "execution_count": 202,
     "metadata": {},
     "output_type": "execute_result"
    }
   ],
   "source": [
    "svm.best_params_"
   ]
  },
  {
   "cell_type": "code",
   "execution_count": 203,
   "id": "8d6beb21-80fd-460e-afa0-2f94850246b4",
   "metadata": {},
   "outputs": [
    {
     "data": {
      "text/plain": [
       "0.776470588235294"
      ]
     },
     "execution_count": 203,
     "metadata": {},
     "output_type": "execute_result"
    }
   ],
   "source": [
    "svm.best_score_"
   ]
  },
  {
   "cell_type": "code",
   "execution_count": 204,
   "id": "722c48be-560f-45de-9654-11793e061f5b",
   "metadata": {},
   "outputs": [
    {
     "data": {
      "text/plain": [
       "0.9705882352941176"
      ]
     },
     "execution_count": 204,
     "metadata": {},
     "output_type": "execute_result"
    }
   ],
   "source": [
    "svm.score(x_train_scaled, y_train)"
   ]
  },
  {
   "cell_type": "code",
   "execution_count": 708,
   "id": "c4e88135-99a4-462f-a2f4-01af7f674656",
   "metadata": {},
   "outputs": [],
   "source": [
    "param_grid2 = {'gamma': np.arange(0.00001, 0.00056, 0.00001)}"
   ]
  },
  {
   "cell_type": "code",
   "execution_count": 726,
   "id": "fe4c8132-d869-455b-9c26-44b8ccd4cb55",
   "metadata": {},
   "outputs": [],
   "source": [
    "svm = GridSearchCV(SVC(kernel='rbf', class_weight='balanced', probability=True, random_state=seed, C=1.5), param_grid=param_grid2, cv=cv, n_jobs=-1, verbose=1)"
   ]
  },
  {
   "cell_type": "code",
   "execution_count": 727,
   "id": "8d29a24a-100a-4878-8081-b4f1bd6b8954",
   "metadata": {},
   "outputs": [
    {
     "name": "stdout",
     "output_type": "stream",
     "text": [
      "Fitting 10 folds for each of 55 candidates, totalling 550 fits\n"
     ]
    },
    {
     "name": "stderr",
     "output_type": "stream",
     "text": [
      "[Parallel(n_jobs=-1)]: Using backend LokyBackend with 20 concurrent workers.\n",
      "[Parallel(n_jobs=-1)]: Done  10 tasks      | elapsed:    2.7s\n",
      "[Parallel(n_jobs=-1)]: Done 160 tasks      | elapsed:   22.4s\n",
      "[Parallel(n_jobs=-1)]: Done 410 tasks      | elapsed:   55.3s\n",
      "[Parallel(n_jobs=-1)]: Done 550 out of 550 | elapsed:  1.2min finished\n"
     ]
    },
    {
     "data": {
      "text/plain": [
       "GridSearchCV(cv=StratifiedKFold(n_splits=10, random_state=42, shuffle=False),\n",
       "             error_score=nan,\n",
       "             estimator=SVC(C=1.5, break_ties=False, cache_size=200,\n",
       "                           class_weight='balanced', coef0=0.0,\n",
       "                           decision_function_shape='ovr', degree=3,\n",
       "                           gamma='scale', kernel='rbf', max_iter=-1,\n",
       "                           probability=True, random_state=42, shrinking=True,\n",
       "                           tol=0.001, verbose=False),\n",
       "             iid='deprecated', n_job...\n",
       "       2.2e-04, 2.3e-04, 2.4e-04, 2.5e-04, 2.6e-04, 2.7e-04, 2.8e-04,\n",
       "       2.9e-04, 3.0e-04, 3.1e-04, 3.2e-04, 3.3e-04, 3.4e-04, 3.5e-04,\n",
       "       3.6e-04, 3.7e-04, 3.8e-04, 3.9e-04, 4.0e-04, 4.1e-04, 4.2e-04,\n",
       "       4.3e-04, 4.4e-04, 4.5e-04, 4.6e-04, 4.7e-04, 4.8e-04, 4.9e-04,\n",
       "       5.0e-04, 5.1e-04, 5.2e-04, 5.3e-04, 5.4e-04, 5.5e-04])},\n",
       "             pre_dispatch='2*n_jobs', refit=True, return_train_score=False,\n",
       "             scoring=None, verbose=1)"
      ]
     },
     "execution_count": 727,
     "metadata": {},
     "output_type": "execute_result"
    }
   ],
   "source": [
    "svm.fit(x_train_scaled, y_train)"
   ]
  },
  {
   "cell_type": "code",
   "execution_count": 728,
   "id": "f1f4c894-63fe-45d0-aa84-4369d86bb86c",
   "metadata": {},
   "outputs": [
    {
     "data": {
      "text/plain": [
       "{'gamma': 0.0003600000000000001}"
      ]
     },
     "execution_count": 728,
     "metadata": {},
     "output_type": "execute_result"
    }
   ],
   "source": [
    "svm.best_params_"
   ]
  },
  {
   "cell_type": "code",
   "execution_count": 729,
   "id": "740c40e4-8a2b-4b72-b9f4-1c0a0d52e64a",
   "metadata": {},
   "outputs": [
    {
     "data": {
      "text/plain": [
       "0.7794117647058824"
      ]
     },
     "execution_count": 729,
     "metadata": {},
     "output_type": "execute_result"
    }
   ],
   "source": [
    "svm.best_score_"
   ]
  },
  {
   "cell_type": "code",
   "execution_count": 1357,
   "id": "5e936021-07bb-4b6b-8186-2b386d3f77f0",
   "metadata": {},
   "outputs": [],
   "source": [
    "param_grid3 = {'C': np.arange(0, 3, 0.1)}"
   ]
  },
  {
   "cell_type": "code",
   "execution_count": 1358,
   "id": "ab207c9d-0f96-449c-aa61-bdf0f3cd6828",
   "metadata": {},
   "outputs": [],
   "source": [
    "scoring = {'ACC': 'accuracy', 'AUC': 'roc_auc', 'MCC': matthews, 'SE': 'recall', 'SP': specificity}"
   ]
  },
  {
   "cell_type": "code",
   "execution_count": 1375,
   "id": "ba87fc35-9e35-4b34-8804-1fbe69a2f931",
   "metadata": {},
   "outputs": [],
   "source": [
    "svm = GridSearchCV(SVC(kernel='rbf', class_weight='balanced', probability=True, random_state=seed, gamma=0.00015), param_grid=param_grid3, cv=cv, scoring=scoring, refit='AUC', n_jobs=-1, verbose=1)"
   ]
  },
  {
   "cell_type": "code",
   "execution_count": 1376,
   "id": "ef489201-70ed-4dbe-b496-5fc88b4207be",
   "metadata": {},
   "outputs": [
    {
     "name": "stdout",
     "output_type": "stream",
     "text": [
      "Fitting 10 folds for each of 30 candidates, totalling 300 fits\n"
     ]
    },
    {
     "name": "stderr",
     "output_type": "stream",
     "text": [
      "[Parallel(n_jobs=-1)]: Using backend LokyBackend with 20 concurrent workers.\n",
      "[Parallel(n_jobs=-1)]: Done  10 tasks      | elapsed:    0.0s\n",
      "[Parallel(n_jobs=-1)]: Done 200 tasks      | elapsed:   26.2s\n",
      "[Parallel(n_jobs=-1)]: Done 300 out of 300 | elapsed:   37.7s finished\n"
     ]
    },
    {
     "data": {
      "text/plain": [
       "GridSearchCV(cv=StratifiedKFold(n_splits=10, random_state=42, shuffle=False),\n",
       "             error_score=nan,\n",
       "             estimator=SVC(C=1.0, break_ties=False, cache_size=200,\n",
       "                           class_weight='balanced', coef0=0.0,\n",
       "                           decision_function_shape='ovr', degree=3,\n",
       "                           gamma=0.00015, kernel='rbf', max_iter=-1,\n",
       "                           probability=True, random_state=42, shrinking=True,\n",
       "                           tol=0.001, verbose=False),\n",
       "             iid='deprecated', n_job...\n",
       "             param_grid={'C': array([0. , 0.1, 0.2, 0.3, 0.4, 0.5, 0.6, 0.7, 0.8, 0.9, 1. , 1.1, 1.2,\n",
       "       1.3, 1.4, 1.5, 1.6, 1.7, 1.8, 1.9, 2. , 2.1, 2.2, 2.3, 2.4, 2.5,\n",
       "       2.6, 2.7, 2.8, 2.9])},\n",
       "             pre_dispatch='2*n_jobs', refit='AUC', return_train_score=False,\n",
       "             scoring={'ACC': 'accuracy', 'AUC': 'roc_auc',\n",
       "                      'MCC': make_scorer(matthews_corrcoef), 'SE': 'recall',\n",
       "                      'SP': make_scorer(recall_score, pos_label=0)},\n",
       "             verbose=1)"
      ]
     },
     "execution_count": 1376,
     "metadata": {},
     "output_type": "execute_result"
    }
   ],
   "source": [
    "svm.fit(x_train_scaled, y_train)"
   ]
  },
  {
   "cell_type": "code",
   "execution_count": 1377,
   "id": "92a6fc02-3023-480f-9b9c-5a074be51a26",
   "metadata": {},
   "outputs": [
    {
     "data": {
      "text/plain": [
       "{'C': 2.9000000000000004}"
      ]
     },
     "execution_count": 1377,
     "metadata": {},
     "output_type": "execute_result"
    }
   ],
   "source": [
    "svm.best_params_"
   ]
  },
  {
   "cell_type": "code",
   "execution_count": 1378,
   "id": "e1fc3aca-523b-47b3-a616-608c48141070",
   "metadata": {},
   "outputs": [
    {
     "data": {
      "text/plain": [
       "0.8689912280701755"
      ]
     },
     "execution_count": 1378,
     "metadata": {},
     "output_type": "execute_result"
    }
   ],
   "source": [
    "svm.best_score_"
   ]
  },
  {
   "cell_type": "code",
   "execution_count": 1855,
   "id": "0dc81a5e-c655-4b0e-ae15-ad765857ef2c",
   "metadata": {},
   "outputs": [],
   "source": [
    "svm_2c8 = SVC(kernel='rbf', class_weight='balanced', probability=True, random_state=seed, C=2, gamma=0.00015)"
   ]
  },
  {
   "cell_type": "code",
   "execution_count": 1856,
   "id": "c42cb7aa-e900-49f8-bcf7-945aafb08596",
   "metadata": {},
   "outputs": [
    {
     "data": {
      "text/plain": [
       "SVC(C=2, break_ties=False, cache_size=200, class_weight='balanced', coef0=0.0,\n",
       "    decision_function_shape='ovr', degree=3, gamma=0.00015, kernel='rbf',\n",
       "    max_iter=-1, probability=True, random_state=42, shrinking=True, tol=0.001,\n",
       "    verbose=False)"
      ]
     },
     "execution_count": 1856,
     "metadata": {},
     "output_type": "execute_result"
    }
   ],
   "source": [
    "svm_2c8.fit(x_train_scaled, y_train)"
   ]
  },
  {
   "cell_type": "code",
   "execution_count": 1643,
   "id": "930d0dab-d6e1-41ca-b471-7191f9f69ed2",
   "metadata": {},
   "outputs": [],
   "source": [
    "from sklearn.model_selection import cross_val_score\n",
    "from sklearn.metrics import matthews_corrcoef, accuracy_score, roc_auc_score, make_scorer, recall_score"
   ]
  },
  {
   "cell_type": "code",
   "execution_count": 1644,
   "id": "29551fc5-df8a-470f-ba59-5433906de483",
   "metadata": {},
   "outputs": [],
   "source": [
    "matthews = make_scorer(matthews_corrcoef)"
   ]
  },
  {
   "cell_type": "code",
   "execution_count": 1645,
   "id": "bbe43dc5-c7d7-4a33-b264-328730d912c8",
   "metadata": {},
   "outputs": [],
   "source": [
    "specificity = make_scorer(recall_score, pos_label=0)"
   ]
  },
  {
   "cell_type": "code",
   "execution_count": 1857,
   "id": "85ad435a-7729-4246-bbcd-69b560ed3095",
   "metadata": {},
   "outputs": [],
   "source": [
    "score1 = cross_val_score(svm_2c8, x_train_scaled, y_train, cv=cv, scoring='accuracy')"
   ]
  },
  {
   "cell_type": "code",
   "execution_count": 1858,
   "id": "14ff6c0a-f71c-4481-95ec-e4f703417894",
   "metadata": {},
   "outputs": [
    {
     "data": {
      "text/plain": [
       "0.7676470588235293"
      ]
     },
     "execution_count": 1858,
     "metadata": {},
     "output_type": "execute_result"
    }
   ],
   "source": [
    "score1.mean()"
   ]
  },
  {
   "cell_type": "code",
   "execution_count": 1859,
   "id": "f8bfb5ba-226c-4186-bb3e-255c24e49759",
   "metadata": {},
   "outputs": [],
   "source": [
    "score2 = cross_val_score(svm_2c8, x_train_scaled, y_train, cv=cv, scoring='roc_auc')"
   ]
  },
  {
   "cell_type": "code",
   "execution_count": 1860,
   "id": "f2d8ca9d-b0e9-4c47-9601-44efcafc2ab7",
   "metadata": {},
   "outputs": [
    {
     "data": {
      "text/plain": [
       "0.8657894736842104"
      ]
     },
     "execution_count": 1860,
     "metadata": {},
     "output_type": "execute_result"
    }
   ],
   "source": [
    "score2.mean()"
   ]
  },
  {
   "cell_type": "code",
   "execution_count": 1861,
   "id": "2cb329ab-674d-4eb7-a4bf-fdfaedef9f66",
   "metadata": {},
   "outputs": [],
   "source": [
    "score3 = cross_val_score(svm_2c8, x_train_scaled, y_train, cv=cv, scoring=matthews)"
   ]
  },
  {
   "cell_type": "code",
   "execution_count": 1862,
   "id": "ec5becaf-3d5f-4caa-a959-84870240f149",
   "metadata": {},
   "outputs": [
    {
     "data": {
      "text/plain": [
       "0.5317201373654423"
      ]
     },
     "execution_count": 1862,
     "metadata": {},
     "output_type": "execute_result"
    }
   ],
   "source": [
    "score3.mean()"
   ]
  },
  {
   "cell_type": "code",
   "execution_count": 1863,
   "id": "b38b05c8-65a1-4e7f-8e9b-f004b9bef27e",
   "metadata": {},
   "outputs": [],
   "source": [
    "score4 = cross_val_score(svm_2c8, x_train_scaled, y_train, cv=cv, scoring='recall')"
   ]
  },
  {
   "cell_type": "code",
   "execution_count": 1864,
   "id": "d97fda4e-4c20-4c72-8acf-5718c9ef2978",
   "metadata": {},
   "outputs": [
    {
     "data": {
      "text/plain": [
       "0.7931578947368421"
      ]
     },
     "execution_count": 1864,
     "metadata": {},
     "output_type": "execute_result"
    }
   ],
   "source": [
    "score4.mean()"
   ]
  },
  {
   "cell_type": "code",
   "execution_count": 1865,
   "id": "043499f3-2e98-46c6-88b5-f84094e2790f",
   "metadata": {},
   "outputs": [],
   "source": [
    "score5 = cross_val_score(svm_2c8, x_train_scaled, y_train, cv=cv, scoring=specificity)"
   ]
  },
  {
   "cell_type": "code",
   "execution_count": 1866,
   "id": "284c5e53-a699-417a-be21-c274ef61aa08",
   "metadata": {},
   "outputs": [
    {
     "data": {
      "text/plain": [
       "0.7314285714285715"
      ]
     },
     "execution_count": 1866,
     "metadata": {},
     "output_type": "execute_result"
    }
   ],
   "source": [
    "score5.mean()"
   ]
  },
  {
   "cell_type": "code",
   "execution_count": 1867,
   "id": "a39d26f9-7c28-41e9-b323-dfee6dd33192",
   "metadata": {},
   "outputs": [],
   "source": [
    "y_pred = svm_2c8.predict(x_test_scaled)"
   ]
  },
  {
   "cell_type": "code",
   "execution_count": 1868,
   "id": "2b849f5d-1dfd-40bb-bd2e-1b859addba72",
   "metadata": {},
   "outputs": [
    {
     "data": {
      "text/plain": [
       "array([1, 1, 1, 0, 1, 1, 0, 0, 0, 1, 0, 1, 1, 1, 1, 1, 1, 1, 0, 1, 1, 1,\n",
       "       0, 1, 0, 0, 1, 0, 0, 1, 0, 1, 1, 0, 1, 0, 0, 1, 1, 1, 1, 0, 1, 1,\n",
       "       1, 1, 1, 1, 1, 1, 1, 1, 0, 1, 1, 1, 0, 0, 1, 1, 0, 0, 0, 0, 0, 0,\n",
       "       0, 1, 1, 1, 1, 1, 1, 1, 0, 0, 1, 0, 0, 0, 0, 0, 1, 1, 0, 1, 1, 0,\n",
       "       1, 0, 1, 1, 1, 1, 0, 1, 1, 1, 1, 1, 1, 0, 1, 1, 0, 0, 1])"
      ]
     },
     "execution_count": 1868,
     "metadata": {},
     "output_type": "execute_result"
    }
   ],
   "source": [
    "y_pred"
   ]
  },
  {
   "cell_type": "code",
   "execution_count": 1869,
   "id": "b0d1d949-8a55-4431-9b2f-e33e305872a2",
   "metadata": {},
   "outputs": [
    {
     "data": {
      "text/plain": [
       "0.7663551401869159"
      ]
     },
     "execution_count": 1869,
     "metadata": {},
     "output_type": "execute_result"
    }
   ],
   "source": [
    "accuracy_score(y_test, y_pred)"
   ]
  },
  {
   "cell_type": "code",
   "execution_count": 1870,
   "id": "6b012fb9-3d06-401d-96b4-898371fa184d",
   "metadata": {},
   "outputs": [
    {
     "data": {
      "text/plain": [
       "0.8433111603843311"
      ]
     },
     "execution_count": 1870,
     "metadata": {},
     "output_type": "execute_result"
    }
   ],
   "source": [
    "roc_auc_score(y_test, svm_2c8.decision_function(x_test_scaled))"
   ]
  },
  {
   "cell_type": "code",
   "execution_count": 1871,
   "id": "d2279572-9a4f-451a-91fd-086e08819ef2",
   "metadata": {},
   "outputs": [
    {
     "data": {
      "text/plain": [
       "0.5035335312992254"
      ]
     },
     "execution_count": 1871,
     "metadata": {},
     "output_type": "execute_result"
    }
   ],
   "source": [
    "matthews_corrcoef(y_test, y_pred)"
   ]
  },
  {
   "cell_type": "code",
   "execution_count": 1872,
   "id": "c9ecec9c-3c89-4c9e-888f-b7bdace1bc13",
   "metadata": {},
   "outputs": [
    {
     "data": {
      "text/plain": [
       "0.8181818181818182"
      ]
     },
     "execution_count": 1872,
     "metadata": {},
     "output_type": "execute_result"
    }
   ],
   "source": [
    "recall_score(y_test, y_pred) # sensitivity"
   ]
  },
  {
   "cell_type": "code",
   "execution_count": 1873,
   "id": "2dcbdfde-240f-4369-928f-fe8ff4ea35ff",
   "metadata": {},
   "outputs": [
    {
     "data": {
      "text/plain": [
       "0.6829268292682927"
      ]
     },
     "execution_count": 1873,
     "metadata": {},
     "output_type": "execute_result"
    }
   ],
   "source": [
    "recall_score(y_test, y_pred, pos_label=0) # specificity"
   ]
  },
  {
   "cell_type": "code",
   "execution_count": 1874,
   "id": "368faed6-ffd9-42d2-8df0-0d498bb3982d",
   "metadata": {},
   "outputs": [],
   "source": [
    "y_pred_valid = svm_2c8.predict(x_valid_scaled)"
   ]
  },
  {
   "cell_type": "code",
   "execution_count": 1875,
   "id": "8c9128eb-5936-41a5-84e2-8f50dfdbfbdb",
   "metadata": {},
   "outputs": [
    {
     "data": {
      "text/plain": [
       "array([0, 0, 0, 0, 1, 1, 1, 1, 0, 1, 0, 1, 1, 1, 1, 1, 0, 0, 0, 1, 0, 0,\n",
       "       1, 0, 1, 1, 0, 1, 0, 0, 1, 0, 1, 1, 0, 1, 1, 1, 0, 1, 1, 1, 1, 1,\n",
       "       1, 0, 0, 0, 1, 1, 1, 1, 0, 0, 0, 0, 1, 1, 1, 0, 0, 1, 0, 1, 0, 1,\n",
       "       0, 1, 0, 1, 1, 1, 0, 1, 1, 1, 1, 0, 1, 0, 0, 1, 1, 1, 0, 0])"
      ]
     },
     "execution_count": 1875,
     "metadata": {},
     "output_type": "execute_result"
    }
   ],
   "source": [
    "y_pred_valid"
   ]
  },
  {
   "cell_type": "code",
   "execution_count": 1770,
   "id": "6e057c96-0f70-4e77-b520-8e57e3935a92",
   "metadata": {},
   "outputs": [
    {
     "data": {
      "text/plain": [
       "0.7906976744186046"
      ]
     },
     "execution_count": 1770,
     "metadata": {},
     "output_type": "execute_result"
    }
   ],
   "source": [
    "accuracy_score(y_valid, y_pred_valid)"
   ]
  },
  {
   "cell_type": "code",
   "execution_count": 1771,
   "id": "fe9e0db0-80b7-413f-8e73-7593fb3fc20f",
   "metadata": {},
   "outputs": [
    {
     "data": {
      "text/plain": [
       "0.906164757228587"
      ]
     },
     "execution_count": 1771,
     "metadata": {},
     "output_type": "execute_result"
    }
   ],
   "source": [
    "roc_auc_score(y_valid, svm_2c8.decision_function(x_valid_scaled))"
   ]
  },
  {
   "cell_type": "code",
   "execution_count": 1772,
   "id": "c6ac061b-d099-4fa8-99b3-bd4ce2dbe3a8",
   "metadata": {},
   "outputs": [
    {
     "data": {
      "text/plain": [
       "0.5765308901891334"
      ]
     },
     "execution_count": 1772,
     "metadata": {},
     "output_type": "execute_result"
    }
   ],
   "source": [
    "matthews_corrcoef(y_valid, y_pred_valid)"
   ]
  },
  {
   "cell_type": "code",
   "execution_count": 1773,
   "id": "8bf3bc0d-8050-4e22-82a1-1d092c50a1db",
   "metadata": {},
   "outputs": [
    {
     "data": {
      "text/plain": [
       "0.8297872340425532"
      ]
     },
     "execution_count": 1773,
     "metadata": {},
     "output_type": "execute_result"
    }
   ],
   "source": [
    "recall_score(y_valid, y_pred_valid)"
   ]
  },
  {
   "cell_type": "code",
   "execution_count": 1774,
   "id": "3bb19366-fcf0-4a6a-b7d9-70d6db44ca40",
   "metadata": {},
   "outputs": [
    {
     "data": {
      "text/plain": [
       "0.7435897435897436"
      ]
     },
     "execution_count": 1774,
     "metadata": {},
     "output_type": "execute_result"
    }
   ],
   "source": [
    "recall_score(y_valid, y_pred_valid, pos_label=0)"
   ]
  },
  {
   "cell_type": "code",
   "execution_count": 1775,
   "id": "624d7ba7-1619-4afd-9b19-cbee5965d5ca",
   "metadata": {},
   "outputs": [
    {
     "data": {
      "text/plain": [
       "['2c8_ecfp4_svm.pkl']"
      ]
     },
     "execution_count": 1775,
     "metadata": {},
     "output_type": "execute_result"
    }
   ],
   "source": [
    "dump(svm_2c8, '2c8_ecfp4_svm.pkl', compress=3)"
   ]
  },
  {
   "cell_type": "code",
   "execution_count": 1778,
   "id": "f531fdba-d965-49a7-a9d8-4820aebad2e9",
   "metadata": {},
   "outputs": [],
   "source": [
    "import matplotlib.pyplot as plt"
   ]
  },
  {
   "cell_type": "code",
   "execution_count": 1809,
   "id": "5b013c25-ee17-4885-a9b0-cfc707c6df0d",
   "metadata": {},
   "outputs": [
    {
     "name": "stdout",
     "output_type": "stream",
     "text": [
      "0.7705882352941176 15\n"
     ]
    },
    {
     "data": {
      "image/png": "[encoded data removed]",
      "text/plain": [
       "<Figure size 3000x1000 with 1 Axes>"
      ]
     },
     "metadata": {},
     "output_type": "display_data"
    }
   ],
   "source": [
    "scorel = []\n",
    "for i in np.arange(0.00001, 0.00026, 0.00001):\n",
    "    svm_2c8 = SVC(kernel='rbf', class_weight='balanced', probability=True, random_state=seed, C=2, gamma=i)\n",
    "    score = cross_val_score(svm_2c8, x_train_scaled, y_train, cv=cv, scoring='accuracy').mean()\n",
    "    scorel.append(score)\n",
    "print(max(scorel),(scorel.index(max(scorel))))\n",
    "plt.figure(figsize=[30,10])\n",
    "plt.plot(np.arange(0.00001, 0.00026, 0.00001), scorel)\n",
    "plt.show()"
   ]
  },
  {
   "cell_type": "code",
   "execution_count": 1815,
   "id": "2edf6c2c-3cce-4b0f-b542-2f31d50d3d8a",
   "metadata": {},
   "outputs": [
    {
     "name": "stdout",
     "output_type": "stream",
     "text": [
      "0.794392523364486 14\n"
     ]
    },
    {
     "data": {
      "image/png": "[encoded data removed]",
      "text/plain": [
       "<Figure size 3000x1000 with 1 Axes>"
      ]
     },
     "metadata": {},
     "output_type": "display_data"
    }
   ],
   "source": [
    "scores = []\n",
    "for i in np.arange(0.0003, 0.00076, 0.00001):\n",
    "    svm_2c8 = SVC(kernel='rbf', class_weight='balanced', probability=True, random_state=seed, C=2, gamma=i)\n",
    "    svm_2c8.fit(x_train_scaled, y_train)\n",
    "    y_pred = svm_2c8.predict(x_test_scaled)\n",
    "    score = accuracy_score(y_test, y_pred)\n",
    "    scores.append(score)\n",
    "print(max(scores),(scores.index(max(scores))))\n",
    "plt.figure(figsize=[30,10])\n",
    "xticks = np.arange(0.0003, 0.00076, 0.00002)\n",
    "plt.xticks(xticks)\n",
    "plt.plot(np.arange(0.0003, 0.00076, 0.00001), scores)\n",
    "plt.show()"
   ]
  },
  {
   "cell_type": "code",
   "execution_count": null,
   "id": "ebc2c6af-8ab5-4696-80be-1a6d8190f9ca",
   "metadata": {},
   "outputs": [],
   "source": []
  }
 ],
 "metadata": {
  "kernelspec": {
   "display_name": "Python 3 (ipykernel)",
   "language": "python",
   "name": "python3"
  },
  "language_info": {
   "codemirror_mode": {
    "name": "ipython",
    "version": 3
   },
   "file_extension": ".py",
   "mimetype": "text/x-python",
   "name": "python",
   "nbconvert_exporter": "python",
   "pygments_lexer": "ipython3",
   "version": "3.9.13"
  }
 },
 "nbformat": 4,
 "nbformat_minor": 5
}
