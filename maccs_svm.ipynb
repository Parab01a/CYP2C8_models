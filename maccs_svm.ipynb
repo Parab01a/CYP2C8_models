{
 "cells": [
  {
   "cell_type": "code",
   "execution_count": 1,
   "id": "f8d0ef0a-3e4e-485c-ac6c-2d00ce7fd672",
   "metadata": {},
   "outputs": [],
   "source": [
    "from joblib import dump, load"
   ]
  },
  {
   "cell_type": "code",
   "execution_count": 2,
   "id": "0eff59ab-47c3-44ad-9473-4c14ddf407f8",
   "metadata": {},
   "outputs": [],
   "source": [
    "x_train_mol = load('x_train_mol.pkl')\n",
    "x_test_mol = load('x_test_mol.pkl')\n",
    "x_valid_mol = load('x_valid_mol.pkl')"
   ]
  },
  {
   "cell_type": "code",
   "execution_count": 36,
   "id": "b292f16d-4473-4b79-b76b-9883b12e34a6",
   "metadata": {},
   "outputs": [],
   "source": [
    "y_train = load('y_train.pkl')\n",
    "y_test = load('y_test.pkl')\n",
    "y_valid = load('y_valid.pkl')"
   ]
  },
  {
   "cell_type": "code",
   "execution_count": 4,
   "id": "71c360f8-8154-4aab-b1f4-9cad07aac2bb",
   "metadata": {},
   "outputs": [
    {
     "data": {
      "text/plain": [
       "340"
      ]
     },
     "execution_count": 4,
     "metadata": {},
     "output_type": "execute_result"
    }
   ],
   "source": [
    "len(x_train_mol)"
   ]
  },
  {
   "cell_type": "code",
   "execution_count": 5,
   "id": "8b64cf09-5d0f-4e65-bd09-17475779850c",
   "metadata": {},
   "outputs": [
    {
     "data": {
      "text/plain": [
       "107"
      ]
     },
     "execution_count": 5,
     "metadata": {},
     "output_type": "execute_result"
    }
   ],
   "source": [
    "len(x_test_mol)"
   ]
  },
  {
   "cell_type": "code",
   "execution_count": 6,
   "id": "bcf2b8ba-590e-4966-bf2e-a0379167bb62",
   "metadata": {},
   "outputs": [
    {
     "data": {
      "text/plain": [
       "86"
      ]
     },
     "execution_count": 6,
     "metadata": {},
     "output_type": "execute_result"
    }
   ],
   "source": [
    "len(x_valid_mol)"
   ]
  },
  {
   "cell_type": "code",
   "execution_count": 18,
   "id": "164f8b5c-999b-4ae2-942a-52abb50cc41a",
   "metadata": {},
   "outputs": [],
   "source": [
    "from rdkit import Chem\n",
    "from rdkit.Chem import MACCSkeys, DataStructs\n",
    "import numpy as np"
   ]
  },
  {
   "cell_type": "code",
   "execution_count": 8,
   "id": "da6a588b-5125-40e1-9593-ae33a88ba994",
   "metadata": {},
   "outputs": [],
   "source": [
    "fp1 = [MACCSkeys.GenMACCSKeys(m1) for m1 in x_train_mol]"
   ]
  },
  {
   "cell_type": "code",
   "execution_count": 11,
   "id": "6f857ad6-62a7-40b5-b3d1-3d671c5d1f89",
   "metadata": {},
   "outputs": [],
   "source": [
    "fp2 = [MACCSkeys.GenMACCSKeys(m2) for m2 in x_test_mol]"
   ]
  },
  {
   "cell_type": "code",
   "execution_count": 12,
   "id": "bbed5248-7905-4c7c-a89f-bc90f26c3eba",
   "metadata": {},
   "outputs": [],
   "source": [
    "fp3 = [MACCSkeys.GenMACCSKeys(m3) for m3 in x_valid_mol]"
   ]
  },
  {
   "cell_type": "code",
   "execution_count": 19,
   "id": "301af2fb-a3cd-4c70-86d3-1fc4fd3d47ca",
   "metadata": {},
   "outputs": [],
   "source": [
    "def rdkit_numpy_convert(fp):\n",
    "    output = []\n",
    "    for f in fp:\n",
    "        arr = np.zeros([1,])\n",
    "        DataStructs.ConvertToNumpyArray(f, arr)\n",
    "        output.append(arr)\n",
    "    return np.asarray(output)"
   ]
  },
  {
   "cell_type": "code",
   "execution_count": 20,
   "id": "9cacbce4-e63a-4ec1-aedd-2a92193e5895",
   "metadata": {},
   "outputs": [],
   "source": [
    "x_train = rdkit_numpy_convert(fp1)"
   ]
  },
  {
   "cell_type": "code",
   "execution_count": 24,
   "id": "ca90c5a3-8b10-49ad-9a6e-c2f4c0f4aab6",
   "metadata": {},
   "outputs": [],
   "source": [
    "x_test = rdkit_numpy_convert(fp2)"
   ]
  },
  {
   "cell_type": "code",
   "execution_count": 26,
   "id": "0981ea13-64d2-4e2c-bf26-10d91bacbc33",
   "metadata": {},
   "outputs": [],
   "source": [
    "x_valid = rdkit_numpy_convert(fp3)"
   ]
  },
  {
   "cell_type": "code",
   "execution_count": 31,
   "id": "ddbd24e5-41ee-4907-b2f3-0974d0657b6c",
   "metadata": {},
   "outputs": [
    {
     "data": {
      "text/plain": [
       "['x_valid_maccs.pkl']"
      ]
     },
     "execution_count": 31,
     "metadata": {},
     "output_type": "execute_result"
    }
   ],
   "source": [
    "dump(x_valid, 'x_valid_maccs.pkl', compress=3)"
   ]
  },
  {
   "cell_type": "code",
   "execution_count": 32,
   "id": "9e4d5687-3176-4a2e-b958-8cd93c83ec54",
   "metadata": {},
   "outputs": [],
   "source": [
    "from sklearn.model_selection import StratifiedKFold, GridSearchCV"
   ]
  },
  {
   "cell_type": "code",
   "execution_count": 33,
   "id": "17a20c2b-d0aa-41fb-990c-085e7904f792",
   "metadata": {},
   "outputs": [],
   "source": [
    "seed = 42"
   ]
  },
  {
   "cell_type": "code",
   "execution_count": 34,
   "id": "5da6e0ef-2c7c-416f-bdef-a53dafbf8ef0",
   "metadata": {},
   "outputs": [
    {
     "name": "stderr",
     "output_type": "stream",
     "text": [
      "D:\\Anaconda3\\envs\\deepchem\\lib\\site-packages\\sklearn\\model_selection\\_split.py:296: FutureWarning: Setting a random_state has no effect since shuffle is False. This will raise an error in 0.24. You should leave random_state to its default (None), or set shuffle=True.\n",
      "  FutureWarning\n"
     ]
    }
   ],
   "source": [
    "cv = StratifiedKFold(n_splits=10, random_state=seed)"
   ]
  },
  {
   "cell_type": "code",
   "execution_count": 35,
   "id": "e7b7cc87-38cd-4da8-ad39-7aa9b786c2da",
   "metadata": {},
   "outputs": [],
   "source": [
    "from sklearn.preprocessing import StandardScaler"
   ]
  },
  {
   "cell_type": "code",
   "execution_count": 42,
   "id": "6e7544f6-d771-4d29-b421-3323a34ee2f6",
   "metadata": {},
   "outputs": [],
   "source": [
    "scale = StandardScaler().fit(x_train)\n",
    "x_train_scaled = scale.transform(x_train)\n",
    "x_test_scaled = scale.transform(x_test)\n",
    "x_valid_scaled = scale.transform(x_valid)"
   ]
  },
  {
   "cell_type": "code",
   "execution_count": 50,
   "id": "03fe4bef-d2a2-4f9d-8009-46551a36aa79",
   "metadata": {},
   "outputs": [],
   "source": [
    "from sklearn.svm import SVC"
   ]
  },
  {
   "cell_type": "code",
   "execution_count": 55,
   "id": "d5cbc391-7f51-40ae-b0e7-f1dc81c1ab1a",
   "metadata": {},
   "outputs": [],
   "source": [
    "param_grid = {'C': [10**i for i in range(-6, 7)],\n",
    "             'gamma': [10**i for i in range(-6, 7)]}"
   ]
  },
  {
   "cell_type": "code",
   "execution_count": 56,
   "id": "d63a8192-3122-4e01-8f56-069d5e53bbd9",
   "metadata": {},
   "outputs": [],
   "source": [
    "svm = GridSearchCV(SVC(kernel='rbf', class_weight='balanced', probability=True, random_state=seed), param_grid=param_grid, cv=cv, n_jobs=-1, verbose=1)"
   ]
  },
  {
   "cell_type": "code",
   "execution_count": 57,
   "id": "735bbe19-4fab-4915-a237-352b33fc937e",
   "metadata": {},
   "outputs": [
    {
     "name": "stdout",
     "output_type": "stream",
     "text": [
      "Fitting 10 folds for each of 169 candidates, totalling 1690 fits\n"
     ]
    },
    {
     "name": "stderr",
     "output_type": "stream",
     "text": [
      "[Parallel(n_jobs=-1)]: Using backend LokyBackend with 20 concurrent workers.\n",
      "[Parallel(n_jobs=-1)]: Done  10 tasks      | elapsed:    2.3s\n",
      "[Parallel(n_jobs=-1)]: Done 200 tasks      | elapsed:    3.2s\n",
      "[Parallel(n_jobs=-1)]: Done 700 tasks      | elapsed:    5.2s\n",
      "[Parallel(n_jobs=-1)]: Done 1400 tasks      | elapsed:    8.0s\n",
      "[Parallel(n_jobs=-1)]: Done 1690 out of 1690 | elapsed:    9.2s finished\n"
     ]
    },
    {
     "data": {
      "text/plain": [
       "GridSearchCV(cv=StratifiedKFold(n_splits=10, random_state=42, shuffle=False),\n",
       "             error_score=nan,\n",
       "             estimator=SVC(C=1.0, break_ties=False, cache_size=200,\n",
       "                           class_weight='balanced', coef0=0.0,\n",
       "                           decision_function_shape='ovr', degree=3,\n",
       "                           gamma='scale', kernel='rbf', max_iter=-1,\n",
       "                           probability=True, random_state=42, shrinking=True,\n",
       "                           tol=0.001, verbose=False),\n",
       "             iid='deprecated', n_jobs=-1,\n",
       "             param_grid={'C': [1e-06, 1e-05, 0.0001, 0.001, 0.01, 0.1, 1, 10,\n",
       "                               100, 1000, 10000, 100000, 1000000],\n",
       "                         'gamma': [1e-06, 1e-05, 0.0001, 0.001, 0.01, 0.1, 1,\n",
       "                                   10, 100, 1000, 10000, 100000, 1000000]},\n",
       "             pre_dispatch='2*n_jobs', refit=True, return_train_score=False,\n",
       "             scoring=None, verbose=1)"
      ]
     },
     "execution_count": 57,
     "metadata": {},
     "output_type": "execute_result"
    }
   ],
   "source": [
    "svm.fit(x_train_scaled, y_train)"
   ]
  },
  {
   "cell_type": "code",
   "execution_count": 58,
   "id": "6345fbc3-7ed5-4c2f-8e61-e7c0caf97409",
   "metadata": {},
   "outputs": [
    {
     "data": {
      "text/plain": [
       "{'C': 10, 'gamma': 0.001}"
      ]
     },
     "execution_count": 58,
     "metadata": {},
     "output_type": "execute_result"
    }
   ],
   "source": [
    "svm.best_params_"
   ]
  },
  {
   "cell_type": "code",
   "execution_count": 59,
   "id": "e0736149-628c-4b08-b64e-1e13891c2d52",
   "metadata": {},
   "outputs": [
    {
     "data": {
      "text/plain": [
       "0.7676470588235295"
      ]
     },
     "execution_count": 59,
     "metadata": {},
     "output_type": "execute_result"
    }
   ],
   "source": [
    "svm.best_score_"
   ]
  },
  {
   "cell_type": "code",
   "execution_count": 146,
   "id": "ce102a68-4e25-4222-864e-013e0eb74277",
   "metadata": {},
   "outputs": [],
   "source": [
    "svm_2c8 = SVC(kernel='rbf', class_weight='balanced', probability=True, random_state=seed, C=9, gamma=0.004)"
   ]
  },
  {
   "cell_type": "code",
   "execution_count": 147,
   "id": "03c34998-009a-4ec5-a5dc-862f1bf4f837",
   "metadata": {},
   "outputs": [
    {
     "data": {
      "text/plain": [
       "SVC(C=9, break_ties=False, cache_size=200, class_weight='balanced', coef0=0.0,\n",
       "    decision_function_shape='ovr', degree=3, gamma=0.004, kernel='rbf',\n",
       "    max_iter=-1, probability=True, random_state=42, shrinking=True, tol=0.001,\n",
       "    verbose=False)"
      ]
     },
     "execution_count": 147,
     "metadata": {},
     "output_type": "execute_result"
    }
   ],
   "source": [
    "svm_2c8.fit(x_train_scaled, y_train)"
   ]
  },
  {
   "cell_type": "code",
   "execution_count": 65,
   "id": "e7da96ad-9b9a-432c-a149-f812444057de",
   "metadata": {},
   "outputs": [],
   "source": [
    "from sklearn.model_selection import cross_val_score\n",
    "from sklearn.metrics import matthews_corrcoef, accuracy_score, roc_auc_score, make_scorer, recall_score"
   ]
  },
  {
   "cell_type": "code",
   "execution_count": 66,
   "id": "ffb49716-75d7-46ad-b3a4-8dddf2f0d6e0",
   "metadata": {},
   "outputs": [],
   "source": [
    "matthews = make_scorer(matthews_corrcoef)\n",
    "specificity = make_scorer(recall_score, pos_label=0)"
   ]
  },
  {
   "cell_type": "code",
   "execution_count": 148,
   "id": "da80f22b-0ed3-4160-ad9e-33e27186f619",
   "metadata": {},
   "outputs": [
    {
     "data": {
      "text/plain": [
       "0.7676470588235293"
      ]
     },
     "execution_count": 148,
     "metadata": {},
     "output_type": "execute_result"
    }
   ],
   "source": [
    "cross_val_score(svm_2c8, x_train_scaled, y_train, cv=cv, scoring='accuracy').mean()"
   ]
  },
  {
   "cell_type": "code",
   "execution_count": 149,
   "id": "383a64d4-d045-4ab1-a595-c10807cf0b1c",
   "metadata": {},
   "outputs": [
    {
     "data": {
      "text/plain": [
       "0.8504197994987468"
      ]
     },
     "execution_count": 149,
     "metadata": {},
     "output_type": "execute_result"
    }
   ],
   "source": [
    "cross_val_score(svm_2c8, x_train_scaled, y_train, cv=cv, scoring='roc_auc').mean()"
   ]
  },
  {
   "cell_type": "code",
   "execution_count": 150,
   "id": "a71f0c5c-db57-4aee-9a6d-fdaf217a288d",
   "metadata": {},
   "outputs": [
    {
     "data": {
      "text/plain": [
       "0.5370591429690029"
      ]
     },
     "execution_count": 150,
     "metadata": {},
     "output_type": "execute_result"
    }
   ],
   "source": [
    "cross_val_score(svm_2c8, x_train_scaled, y_train, cv=cv, scoring=matthews).mean()"
   ]
  },
  {
   "cell_type": "code",
   "execution_count": 151,
   "id": "47768b3c-4f59-4d2f-9cd7-37c9314782e2",
   "metadata": {},
   "outputs": [
    {
     "data": {
      "text/plain": [
       "0.7926315789473685"
      ]
     },
     "execution_count": 151,
     "metadata": {},
     "output_type": "execute_result"
    }
   ],
   "source": [
    "cross_val_score(svm_2c8, x_train_scaled, y_train, cv=cv, scoring='recall').mean()"
   ]
  },
  {
   "cell_type": "code",
   "execution_count": 152,
   "id": "58afaee4-e2d1-41a8-a067-849d1365aa89",
   "metadata": {},
   "outputs": [
    {
     "data": {
      "text/plain": [
       "0.7300000000000001"
      ]
     },
     "execution_count": 152,
     "metadata": {},
     "output_type": "execute_result"
    }
   ],
   "source": [
    "cross_val_score(svm_2c8, x_train_scaled, y_train, cv=cv, scoring=specificity).mean()"
   ]
  },
  {
   "cell_type": "code",
   "execution_count": 153,
   "id": "a36218a9-c4a7-4f7c-b38a-a6a3ffa82aec",
   "metadata": {},
   "outputs": [],
   "source": [
    "y_pred = svm_2c8.predict(x_test_scaled)"
   ]
  },
  {
   "cell_type": "code",
   "execution_count": 154,
   "id": "9aa61fd5-5548-4515-b11a-95f648820c79",
   "metadata": {},
   "outputs": [
    {
     "data": {
      "text/plain": [
       "array([1, 1, 1, 0, 1, 1, 0, 0, 0, 1, 0, 1, 1, 1, 1, 1, 1, 1, 0, 0, 1, 1,\n",
       "       1, 1, 0, 1, 1, 0, 0, 1, 0, 1, 1, 1, 1, 0, 0, 1, 1, 1, 1, 1, 1, 1,\n",
       "       1, 1, 1, 1, 0, 0, 1, 1, 0, 1, 1, 0, 0, 0, 0, 1, 1, 1, 0, 0, 0, 1,\n",
       "       0, 1, 0, 1, 1, 1, 1, 1, 0, 0, 1, 0, 0, 1, 0, 1, 1, 1, 0, 1, 1, 1,\n",
       "       1, 0, 1, 0, 0, 1, 1, 1, 1, 1, 1, 1, 1, 0, 1, 1, 1, 0, 0])"
      ]
     },
     "execution_count": 154,
     "metadata": {},
     "output_type": "execute_result"
    }
   ],
   "source": [
    "y_pred"
   ]
  },
  {
   "cell_type": "code",
   "execution_count": 155,
   "id": "85c009d8-bad1-429d-a1de-e7d4af3b0b42",
   "metadata": {},
   "outputs": [
    {
     "data": {
      "text/plain": [
       "0.7570093457943925"
      ]
     },
     "execution_count": 155,
     "metadata": {},
     "output_type": "execute_result"
    }
   ],
   "source": [
    "accuracy_score(y_test, y_pred)"
   ]
  },
  {
   "cell_type": "code",
   "execution_count": 156,
   "id": "46444cd6-cb01-4b4b-bb12-1042b2284870",
   "metadata": {},
   "outputs": [
    {
     "data": {
      "text/plain": [
       "0.8266814486326681"
      ]
     },
     "execution_count": 156,
     "metadata": {},
     "output_type": "execute_result"
    }
   ],
   "source": [
    "roc_auc_score(y_test, svm_2c8.decision_function(x_test_scaled))"
   ]
  },
  {
   "cell_type": "code",
   "execution_count": 157,
   "id": "67f5ea7c-d600-4c94-b684-e08498b9acda",
   "metadata": {},
   "outputs": [
    {
     "data": {
      "text/plain": [
       "0.4778336686655522"
      ]
     },
     "execution_count": 157,
     "metadata": {},
     "output_type": "execute_result"
    }
   ],
   "source": [
    "matthews_corrcoef(y_test, y_pred)"
   ]
  },
  {
   "cell_type": "code",
   "execution_count": 158,
   "id": "ab0f61c1-125a-4984-9dc1-c38a61ca765b",
   "metadata": {},
   "outputs": [
    {
     "data": {
      "text/plain": [
       "0.8333333333333334"
      ]
     },
     "execution_count": 158,
     "metadata": {},
     "output_type": "execute_result"
    }
   ],
   "source": [
    "recall_score(y_test, y_pred)"
   ]
  },
  {
   "cell_type": "code",
   "execution_count": 159,
   "id": "9026d466-9b09-407d-af0b-0c81c2d1ae6b",
   "metadata": {},
   "outputs": [
    {
     "data": {
      "text/plain": [
       "0.6341463414634146"
      ]
     },
     "execution_count": 159,
     "metadata": {},
     "output_type": "execute_result"
    }
   ],
   "source": [
    "recall_score(y_test, y_pred, pos_label=0)"
   ]
  },
  {
   "cell_type": "code",
   "execution_count": 80,
   "id": "d30326fb-aa24-468f-834f-ec24f7928e5d",
   "metadata": {},
   "outputs": [],
   "source": [
    "import matplotlib.pyplot as plt"
   ]
  },
  {
   "cell_type": "code",
   "execution_count": 160,
   "id": "1789ebb1-4ed7-44e9-9fd9-bcf1243002e3",
   "metadata": {},
   "outputs": [
    {
     "name": "stdout",
     "output_type": "stream",
     "text": [
      "0.7705882352941177 0\n",
      "0.7570093457943925 4\n"
     ]
    },
    {
     "data": {
      "text/plain": [
       "<matplotlib.legend.Legend at 0x20c59141a88>"
      ]
     },
     "execution_count": 160,
     "metadata": {},
     "output_type": "execute_result"
    },
    {
     "data": {
      "image/png": "[encoded data removed]",
      "text/plain": [
       "<Figure size 2000x1000 with 1 Axes>"
      ]
     },
     "metadata": {},
     "output_type": "display_data"
    }
   ],
   "source": [
    "training_acc = []\n",
    "test_acc = []\n",
    "\n",
    "for i in np.arange(0.001, 0.006, 0.0005):\n",
    "    svm_2c8 = SVC(kernel='rbf', class_weight='balanced', probability=True, random_state=seed, C=9, gamma=i)\n",
    "    svm_2c8.fit(x_train_scaled, y_train)\n",
    "    training_acc.append(cross_val_score(svm_2c8, x_train_scaled, y_train, cv=cv, scoring='accuracy').mean())\n",
    "    y_pred = svm_2c8.predict(x_test_scaled)\n",
    "    test_acc.append(accuracy_score(y_test, y_pred))\n",
    "print(max(training_acc),(training_acc.index(max(training_acc))))\n",
    "print(max(test_acc),(test_acc.index(max(test_acc))))\n",
    "plt.figure(figsize=(20, 10))\n",
    "plt.plot(np.arange(0.001, 0.006, 0.0005), training_acc, label=\"training_acc\")\n",
    "plt.plot(np.arange(0.001, 0.006, 0.0005), test_acc, label=\"test_acc\")\n",
    "plt.xlabel(\"C\")\n",
    "plt.ylabel(\"Accuracy\")\n",
    "xticks = np.arange(0.001, 0.006, 0.0005)\n",
    "plt.xticks(xticks)\n",
    "plt.legend()"
   ]
  },
  {
   "cell_type": "code",
   "execution_count": 161,
   "id": "580f2dcf-31e1-4885-bfa2-3fb102e2e5e1",
   "metadata": {},
   "outputs": [],
   "source": [
    "y_pred_valid = svm_2c8.predict(x_valid_scaled)"
   ]
  },
  {
   "cell_type": "code",
   "execution_count": 162,
   "id": "a78b3b5f-7fd1-4db2-9c49-5759614242ef",
   "metadata": {},
   "outputs": [
    {
     "data": {
      "text/plain": [
       "0.813953488372093"
      ]
     },
     "execution_count": 162,
     "metadata": {},
     "output_type": "execute_result"
    }
   ],
   "source": [
    "accuracy_score(y_valid, y_pred_valid)"
   ]
  },
  {
   "cell_type": "code",
   "execution_count": 163,
   "id": "e9c396ef-29ff-4244-8dbc-31fdd9c78c45",
   "metadata": {},
   "outputs": [
    {
     "data": {
      "text/plain": [
       "0.923076923076923"
      ]
     },
     "execution_count": 163,
     "metadata": {},
     "output_type": "execute_result"
    }
   ],
   "source": [
    "roc_auc_score(y_valid, svm_2c8.decision_function(x_valid_scaled))"
   ]
  },
  {
   "cell_type": "code",
   "execution_count": 164,
   "id": "265a0dd1-bfdd-43df-b327-3c07b76645f8",
   "metadata": {},
   "outputs": [
    {
     "data": {
      "text/plain": [
       "0.6241566459895869"
      ]
     },
     "execution_count": 164,
     "metadata": {},
     "output_type": "execute_result"
    }
   ],
   "source": [
    "matthews_corrcoef(y_valid, y_pred_valid)"
   ]
  },
  {
   "cell_type": "code",
   "execution_count": 165,
   "id": "525edbb6-3387-4bac-82d6-b50918737035",
   "metadata": {},
   "outputs": [
    {
     "data": {
      "text/plain": [
       "0.8723404255319149"
      ]
     },
     "execution_count": 165,
     "metadata": {},
     "output_type": "execute_result"
    }
   ],
   "source": [
    "recall_score(y_valid, y_pred_valid)"
   ]
  },
  {
   "cell_type": "code",
   "execution_count": 166,
   "id": "3a965de6-4c1e-4508-832a-f8d3837af01d",
   "metadata": {},
   "outputs": [
    {
     "data": {
      "text/plain": [
       "0.7435897435897436"
      ]
     },
     "execution_count": 166,
     "metadata": {},
     "output_type": "execute_result"
    }
   ],
   "source": [
    "recall_score(y_valid, y_pred_valid, pos_label=0)"
   ]
  },
  {
   "cell_type": "code",
   "execution_count": 167,
   "id": "8c316f3f-c1f5-49ea-b244-f09c125aca5e",
   "metadata": {},
   "outputs": [
    {
     "data": {
      "text/plain": [
       "['2c8_maccs_svm.pkl']"
      ]
     },
     "execution_count": 167,
     "metadata": {},
     "output_type": "execute_result"
    }
   ],
   "source": [
    "dump(svm_2c8, '2c8_maccs_svm.pkl', compress=3)"
   ]
  },
  {
   "cell_type": "code",
   "execution_count": null,
   "id": "8f5aa5ec-4647-47f1-b5b8-ce698265a65a",
   "metadata": {},
   "outputs": [],
   "source": []
  }
 ],
 "metadata": {
  "kernelspec": {
   "display_name": "Python 3 (ipykernel)",
   "language": "python",
   "name": "python3"
  },
  "language_info": {
   "codemirror_mode": {
    "name": "ipython",
    "version": 3
   },
   "file_extension": ".py",
   "mimetype": "text/x-python",
   "name": "python",
   "nbconvert_exporter": "python",
   "pygments_lexer": "ipython3",
   "version": "3.7.12"
  }
 },
 "nbformat": 4,
 "nbformat_minor": 5
}
