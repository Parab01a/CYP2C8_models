{
 "cells": [
  {
   "cell_type": "code",
   "execution_count": null,
   "id": "6b80e344-e765-4b1a-81de-6e9da14d30df",
   "metadata": {},
   "outputs": [],
   "source": [
    "from joblib import dump, load"
   ]
  },
  {
   "cell_type": "code",
   "execution_count": null,
   "id": "691c8f30-7962-4ed6-b2bb-1998ca016dac",
   "metadata": {},
   "outputs": [],
   "source": [
    "x_train_mol = load('x_train_mol.pkl')\n",
    "x_test_mol = load('x_test_mol.pkl')\n",
    "x_valid_mol = load('x_valid_mol.pkl')"
   ]
  },
  {
   "cell_type": "code",
   "execution_count": null,
   "id": "56da9027-80f4-4f50-80c5-66449064c293",
   "metadata": {},
   "outputs": [],
   "source": [
    "y_train = load('y_train.pkl')\n",
    "y_test = load('y_test.pkl')\n",
    "y_valid = load('y_valid.pkl')"
   ]
  },
  {
   "cell_type": "code",
   "execution_count": null,
   "id": "5ab08836-afb7-433d-ab2a-6d802272dc96",
   "metadata": {},
   "outputs": [],
   "source": [
    "from rdkit import Chem\n",
    "from rdkit.Chem import DataStructs\n",
    "import numpy as np"
   ]
  },
  {
   "cell_type": "code",
   "execution_count": null,
   "id": "6601d6b7-8a2f-4eda-939d-979a1e3a824f",
   "metadata": {},
   "outputs": [],
   "source": [
    "fp1 = [Chem.RDKFingerprint(m1) for m1 in x_train_mol]"
   ]
  },
  {
   "cell_type": "code",
   "execution_count": null,
   "id": "157b4986-735f-4e70-baed-20db212ccdd9",
   "metadata": {},
   "outputs": [],
   "source": [
    "fp2 = [Chem.RDKFingerprint(m2) for m2 in x_test_mol]"
   ]
  },
  {
   "cell_type": "code",
   "execution_count": null,
   "id": "5eeb3bd0-1699-4772-b6c6-32c4e62c4cad",
   "metadata": {},
   "outputs": [],
   "source": [
    "fp3 = [Chem.RDKFingerprint(m3) for m3 in x_valid_mol]"
   ]
  },
  {
   "cell_type": "code",
   "execution_count": null,
   "id": "07b2c8ca-78e0-441b-9d53-82bccc3f3e80",
   "metadata": {},
   "outputs": [],
   "source": [
    "def rdkit_numpy_convert(fp):\n",
    "    output = []\n",
    "    for f in fp:\n",
    "        arr = np.zeros([1,])\n",
    "        DataStructs.ConvertToNumpyArray(f, arr)\n",
    "        output.append(arr)\n",
    "    return np.asarray(output)"
   ]
  },
  {
   "cell_type": "code",
   "execution_count": null,
   "id": "11f1d194-5652-4196-9753-faa14dc6bfee",
   "metadata": {},
   "outputs": [],
   "source": [
    "x_train = rdkit_numpy_convert(fp1)"
   ]
  },
  {
   "cell_type": "code",
   "execution_count": null,
   "id": "c3f0f36f-0352-433d-b4c3-5b54bfeff681",
   "metadata": {},
   "outputs": [],
   "source": [
    "x_test = rdkit_numpy_convert(fp2)"
   ]
  },
  {
   "cell_type": "code",
   "execution_count": null,
   "id": "d5ca4539-29a9-4170-aa1e-a8700db417d9",
   "metadata": {},
   "outputs": [],
   "source": [
    "x_valid = rdkit_numpy_convert(fp3)"
   ]
  },
  {
   "cell_type": "code",
   "execution_count": null,
   "id": "84e20a29-6dd2-4792-9f5a-6ea5b123cf4d",
   "metadata": {},
   "outputs": [],
   "source": [
    "dump(x_valid, 'x_valid_rdkit.pkl', compress=3)"
   ]
  },
  {
   "cell_type": "code",
   "execution_count": null,
   "id": "ddfedf0a-b580-455f-ab4e-8d037ce1d9b5",
   "metadata": {},
   "outputs": [],
   "source": [
    "from sklearn.model_selection import StratifiedKFold, GridSearchCV"
   ]
  },
  {
   "cell_type": "code",
   "execution_count": null,
   "id": "658ded76-442f-4518-a9b3-023f37bc4df2",
   "metadata": {},
   "outputs": [],
   "source": [
    "seed = 42"
   ]
  },
  {
   "cell_type": "code",
   "execution_count": null,
   "id": "e545ee9e-89d2-41f1-ba7e-512981556b38",
   "metadata": {},
   "outputs": [],
   "source": [
    "cv = StratifiedKFold(n_splits=10, random_state=seed)"
   ]
  },
  {
   "cell_type": "code",
   "execution_count": null,
   "id": "2b52555b-d101-424b-a913-54d9047819ee",
   "metadata": {},
   "outputs": [],
   "source": [
    "from sklearn.preprocessing import StandardScaler"
   ]
  },
  {
   "cell_type": "code",
   "execution_count": null,
   "id": "44bbe68f-d58c-4ea0-8f6c-c5145cdec837",
   "metadata": {},
   "outputs": [],
   "source": [
    "scale = StandardScaler().fit(x_train)\n",
    "x_train_scaled = scale.transform(x_train)\n",
    "x_test_scaled = scale.transform(x_test)\n",
    "x_valid_scaled = scale.transform(x_valid)"
   ]
  },
  {
   "cell_type": "code",
   "execution_count": null,
   "id": "aae83c7f-07aa-484f-a2ca-6c9fa35c165d",
   "metadata": {},
   "outputs": [],
   "source": [
    "from sklearn.svm import SVC"
   ]
  },
  {
   "cell_type": "code",
   "execution_count": null,
   "id": "da54acfb-a74f-45f1-af57-af03b41a7dcd",
   "metadata": {},
   "outputs": [],
   "source": [
    "param_grid = {'C': np.arange(10, 50, 1),\n",
    "              'gamma': np.arange(0.00001, 0.001, 0.00001)}"
   ]
  },
  {
   "cell_type": "code",
   "execution_count": null,
   "id": "c4e16412-d453-4d36-8660-9fea30bc1db5",
   "metadata": {},
   "outputs": [],
   "source": [
    "svm = GridSearchCV(SVC(kernel='rbf', class_weight='balanced', probability=True, random_state=seed), param_grid=param_grid, cv=cv, n_jobs=10, verbose=1)"
   ]
  },
  {
   "cell_type": "code",
   "execution_count": null,
   "id": "2ade0a46-1add-46c6-98e8-312fb732f416",
   "metadata": {},
   "outputs": [],
   "source": [
    "svm.fit(x_train_scaled, y_train)"
   ]
  },
  {
   "cell_type": "code",
   "execution_count": null,
   "id": "133468fd-c4a4-423e-a1eb-47ea568a3c01",
   "metadata": {},
   "outputs": [],
   "source": [
    "svm.best_params_"
   ]
  },
  {
   "cell_type": "code",
   "execution_count": null,
   "id": "5a7a081b-cc10-4ad3-91e0-9285b6c3cd8b",
   "metadata": {},
   "outputs": [],
   "source": [
    "svm.best_score_"
   ]
  },
  {
   "cell_type": "code",
   "execution_count": null,
   "id": "ebd43f9f-b060-4952-8883-bf393def99a3",
   "metadata": {},
   "outputs": [],
   "source": [
    "svm.cv_results_['mean_test_score']"
   ]
  },
  {
   "cell_type": "code",
   "execution_count": null,
   "id": "86ae9cb3-dccb-42c5-8dfe-3196be0b7e1a",
   "metadata": {},
   "outputs": [],
   "source": [
    "svm.cv_results_['params']"
   ]
  },
  {
   "cell_type": "code",
   "execution_count": null,
   "id": "818bc55f-8d75-4684-a110-ee4117a19693",
   "metadata": {},
   "outputs": [],
   "source": [
    "svm_2c8 = SVC(kernel='rbf', class_weight='balanced', probability=True, random_state=seed, C=36, gamma=0.0001)"
   ]
  },
  {
   "cell_type": "code",
   "execution_count": null,
   "id": "c53a1c6d-4be0-4e9a-b68a-fc89b4d36a9b",
   "metadata": {},
   "outputs": [],
   "source": [
    "svm_2c8.fit(x_train_scaled, y_train)"
   ]
  },
  {
   "cell_type": "code",
   "execution_count": null,
   "id": "682b7707-24a1-4a0b-882e-80abac31390c",
   "metadata": {},
   "outputs": [],
   "source": [
    "from sklearn.model_selection import cross_val_score\n",
    "from sklearn.metrics import matthews_corrcoef, accuracy_score, roc_auc_score, make_scorer, recall_score"
   ]
  },
  {
   "cell_type": "code",
   "execution_count": null,
   "id": "13359ef1-39ae-464d-9d26-784aac58b5dd",
   "metadata": {},
   "outputs": [],
   "source": [
    "matthews = make_scorer(matthews_corrcoef)\n",
    "specificity = make_scorer(recall_score, pos_label=0)"
   ]
  },
  {
   "cell_type": "code",
   "execution_count": null,
   "id": "fd4b232b-6a13-473a-8b6b-5504ea728417",
   "metadata": {},
   "outputs": [],
   "source": [
    "cross_val_score(svm_2c8, x_train_scaled, y_train, cv=cv, scoring='accuracy').mean()"
   ]
  },
  {
   "cell_type": "code",
   "execution_count": null,
   "id": "77a1cd8d-195a-48aa-83d5-502a9f2a3649",
   "metadata": {},
   "outputs": [],
   "source": [
    "cross_val_score(svm_2c8, x_train_scaled, y_train, cv=cv, scoring='roc_auc').mean()"
   ]
  },
  {
   "cell_type": "code",
   "execution_count": null,
   "id": "817de6d9-922b-4ec8-871c-05ed3e6efd9f",
   "metadata": {},
   "outputs": [],
   "source": [
    "cross_val_score(svm_2c8, x_train_scaled, y_train, cv=cv, scoring=matthews).mean()"
   ]
  },
  {
   "cell_type": "code",
   "execution_count": null,
   "id": "61842b32-06e0-469f-8334-bd2f115e689c",
   "metadata": {},
   "outputs": [],
   "source": [
    "cross_val_score(svm_2c8, x_train_scaled, y_train, cv=cv, scoring='recall').mean()"
   ]
  },
  {
   "cell_type": "code",
   "execution_count": null,
   "id": "8098ba77-37f6-4ddf-9b8c-e69ec1f64238",
   "metadata": {},
   "outputs": [],
   "source": [
    "cross_val_score(svm_2c8, x_train_scaled, y_train, cv=cv, scoring=specificity).mean()"
   ]
  },
  {
   "cell_type": "code",
   "execution_count": null,
   "id": "2be7f2aa-cb68-48ed-b5c3-61bdb36ec3f4",
   "metadata": {},
   "outputs": [],
   "source": [
    "y_pred = svm_2c8.predict(x_test_scaled)"
   ]
  },
  {
   "cell_type": "code",
   "execution_count": null,
   "id": "faf62e26-92a5-4445-aa00-940c8917af45",
   "metadata": {},
   "outputs": [],
   "source": [
    "y_pred"
   ]
  },
  {
   "cell_type": "code",
   "execution_count": null,
   "id": "002031c7-98a0-4429-8974-69e62f1d855d",
   "metadata": {},
   "outputs": [],
   "source": [
    "accuracy_score(y_test, y_pred)"
   ]
  },
  {
   "cell_type": "code",
   "execution_count": null,
   "id": "63d6b9a5-da23-471e-bdbc-e4bcf75d6a03",
   "metadata": {},
   "outputs": [],
   "source": [
    "roc_auc_score(y_test, svm_2c8.decision_function(x_test_scaled))"
   ]
  },
  {
   "cell_type": "code",
   "execution_count": null,
   "id": "b915bd7e-4bd9-4754-b034-49076958a788",
   "metadata": {},
   "outputs": [],
   "source": [
    "matthews_corrcoef(y_test, y_pred)"
   ]
  },
  {
   "cell_type": "code",
   "execution_count": null,
   "id": "24b4fb25-a602-4027-a3c0-42803badce34",
   "metadata": {},
   "outputs": [],
   "source": [
    "recall_score(y_test, y_pred)"
   ]
  },
  {
   "cell_type": "code",
   "execution_count": null,
   "id": "6095e0df-2466-4d27-ab32-c840aa4e2df0",
   "metadata": {},
   "outputs": [],
   "source": [
    "recall_score(y_test, y_pred, pos_label=0)"
   ]
  },
  {
   "cell_type": "code",
   "execution_count": null,
   "id": "0d79184d-8046-4be9-85ea-06519ade5c3d",
   "metadata": {},
   "outputs": [],
   "source": [
    "import matplotlib.pyplot as plt"
   ]
  },
  {
   "cell_type": "code",
   "execution_count": null,
   "id": "3c74f9a9-b0d2-4bc2-9074-5ce2089426f5",
   "metadata": {},
   "outputs": [],
   "source": [
    "training_acc = []\n",
    "test_acc = []\n",
    "\n",
    "for i in np.arange(0.00005, 0.00016, 0.00001):\n",
    "    svm_2c8 = SVC(kernel='rbf', class_weight='balanced', probability=True, random_state=seed, C=36, gamma=i)\n",
    "    svm_2c8.fit(x_train_scaled, y_train)\n",
    "    training_acc.append(cross_val_score(svm_2c8, x_train_scaled, y_train, cv=cv, scoring='accuracy').mean())\n",
    "    y_pred = svm_2c8.predict(x_test_scaled)\n",
    "    test_acc.append(accuracy_score(y_test, y_pred))\n",
    "print(max(training_acc),(training_acc.index(max(training_acc)))+1) # index starts from 0\n",
    "print(max(test_acc),(test_acc.index(max(test_acc)))+1)\n",
    "plt.figure(figsize=(20, 10))\n",
    "plt.plot(np.arange(0.00005, 0.00016, 0.00001), training_acc, label=\"training_acc\")\n",
    "plt.plot(np.arange(0.00005, 0.00016, 0.00001), test_acc, label=\"test_acc\")\n",
    "plt.xlabel(\"C\")\n",
    "plt.ylabel(\"Accuracy\")\n",
    "xticks = np.arange(0.00005, 0.00016, 0.00001)\n",
    "plt.xticks(xticks)\n",
    "plt.legend()"
   ]
  },
  {
   "cell_type": "code",
   "execution_count": null,
   "id": "ee00c718-fd1d-4ff9-988b-ecd2cb0fdd81",
   "metadata": {},
   "outputs": [],
   "source": [
    "training_acc = []\n",
    "test_acc = []\n",
    "\n",
    "for i in np.arange(1, 50, 1):\n",
    "    svm_2c8 = SVC(kernel='rbf', class_weight='balanced', probability=True, random_state=seed, C=i, gamma=0.0001)\n",
    "    svm_2c8.fit(x_train_scaled, y_train)\n",
    "    training_acc.append(cross_val_score(svm_2c8, x_train_scaled, \n",
    "                                        y_train, cv=cv, scoring='accuracy').mean())\n",
    "    y_pred = svm_2c8.predict(x_test_scaled)\n",
    "    test_acc.append(accuracy_score(y_test, y_pred))\n",
    "print(max(training_acc),(training_acc.index(max(training_acc)))+1) # index starts from 0\n",
    "print(max(test_acc),(test_acc.index(max(test_acc)))+1)\n",
    "plt.figure(figsize=(20, 10))\n",
    "plt.plot(np.arange(1, 50, 1), training_acc, label=\"training_acc\")\n",
    "plt.plot(np.arange(1, 50, 1), test_acc, label=\"test_acc\")\n",
    "plt.xlabel(\"C\")\n",
    "plt.ylabel(\"Accuracy\")\n",
    "xticks = np.arange(1, 50, 1)\n",
    "plt.xticks(xticks)\n",
    "plt.legend()"
   ]
  },
  {
   "cell_type": "code",
   "execution_count": null,
   "id": "c1eee1f0-f545-4751-baa3-3cfa03e14ced",
   "metadata": {},
   "outputs": [],
   "source": [
    "y_pred_valid = svm_2c8.predict(x_valid_scaled)"
   ]
  },
  {
   "cell_type": "code",
   "execution_count": null,
   "id": "491d1dfd-9d35-45a5-8b25-7288cba0cc37",
   "metadata": {},
   "outputs": [],
   "source": [
    "accuracy_score(y_valid, y_pred_valid)"
   ]
  },
  {
   "cell_type": "code",
   "execution_count": null,
   "id": "6e61f8c8-06cb-49aa-9eac-124b518fd828",
   "metadata": {},
   "outputs": [],
   "source": [
    "roc_auc_score(y_valid, svm_2c8.decision_function(x_valid_scaled))"
   ]
  },
  {
   "cell_type": "code",
   "execution_count": null,
   "id": "754769b9-ff2e-4b0b-9e2d-830383a6a65c",
   "metadata": {},
   "outputs": [],
   "source": [
    "matthews_corrcoef(y_valid, y_pred_valid)"
   ]
  },
  {
   "cell_type": "code",
   "execution_count": null,
   "id": "1816cac4-4e36-45ae-b169-d35c7812b5b5",
   "metadata": {},
   "outputs": [],
   "source": [
    "recall_score(y_valid, y_pred_valid)"
   ]
  },
  {
   "cell_type": "code",
   "execution_count": null,
   "id": "f22709a0-1b20-475e-a4ba-667f090c6210",
   "metadata": {},
   "outputs": [],
   "source": [
    "recall_score(y_valid, y_pred_valid, pos_label=0)"
   ]
  },
  {
   "cell_type": "code",
   "execution_count": null,
   "id": "bf1a6659-22f1-4706-9aec-bd2f6a147f89",
   "metadata": {},
   "outputs": [],
   "source": [
    "dump(svm_2c8, '2c8_rdkit_svm.pkl', compress=3)"
   ]
  },
  {
   "cell_type": "code",
   "execution_count": null,
   "id": "3a4ea365-471a-4615-a3ab-d66d707b5b11",
   "metadata": {},
   "outputs": [],
   "source": []
  }
 ],
 "metadata": {
  "kernelspec": {
   "display_name": "Python 3 (ipykernel)",
   "language": "python",
   "name": "python3"
  },
  "language_info": {
   "codemirror_mode": {
    "name": "ipython",
    "version": 3
   },
   "file_extension": ".py",
   "mimetype": "text/x-python",
   "name": "python",
   "nbconvert_exporter": "python",
   "pygments_lexer": "ipython3",
   "version": "3.7.12"
  }
 },
 "nbformat": 4,
 "nbformat_minor": 5
}
