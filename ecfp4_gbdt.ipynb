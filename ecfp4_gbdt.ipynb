{
 "cells": [
  {
   "cell_type": "code",
   "execution_count": 1,
   "id": "0bd22481-ff1f-47fa-b782-607b93160497",
   "metadata": {},
   "outputs": [],
   "source": [
    "from joblib import dump, load\n",
    "import numpy as np"
   ]
  },
  {
   "cell_type": "code",
   "execution_count": 2,
   "id": "043c54a8-6b50-4e2e-9638-ff80bb3d4018",
   "metadata": {},
   "outputs": [],
   "source": [
    "x_train = load('x_train_ecfp4.pkl')\n",
    "x_test = load('x_test_ecfp4.pkl')\n",
    "x_valid = load('x_valid_ecfp4.pkl')"
   ]
  },
  {
   "cell_type": "code",
   "execution_count": 3,
   "id": "d5cfc8a1-d5a6-41af-9702-d9e36cd27254",
   "metadata": {},
   "outputs": [],
   "source": [
    "y_train = load('y_train.pkl')\n",
    "y_test = load('y_test.pkl')\n",
    "y_valid = load('y_valid.pkl')"
   ]
  },
  {
   "cell_type": "code",
   "execution_count": 4,
   "id": "2699955a-ea32-4a9d-9251-6cdcd630c256",
   "metadata": {},
   "outputs": [],
   "source": [
    "from sklearn.preprocessing import StandardScaler"
   ]
  },
  {
   "cell_type": "code",
   "execution_count": 9,
   "id": "1484ea63-4472-49b8-b3a5-50c9e36c2539",
   "metadata": {},
   "outputs": [],
   "source": [
    "scale = StandardScaler().fit(x_train)\n",
    "x_train_scaled = scale.transform(x_train)\n",
    "x_test_scaled = scale.transform(x_test)\n",
    "x_valid_scaled = scale.transform(x_valid)"
   ]
  },
  {
   "cell_type": "code",
   "execution_count": 11,
   "id": "16bbbcbd-9117-44e9-bb2a-4b37c3b032a3",
   "metadata": {},
   "outputs": [],
   "source": [
    "from sklearn.model_selection import StratifiedKFold, GridSearchCV"
   ]
  },
  {
   "cell_type": "code",
   "execution_count": 12,
   "id": "9b8940b4-48bb-42f5-98d7-d29ed7fa9cce",
   "metadata": {},
   "outputs": [],
   "source": [
    "seed = 42"
   ]
  },
  {
   "cell_type": "code",
   "execution_count": 13,
   "id": "6b10aaa3-db7f-473d-8e21-8ecb6660db6a",
   "metadata": {},
   "outputs": [
    {
     "name": "stderr",
     "output_type": "stream",
     "text": [
      "D:\\Anaconda3\\envs\\deepchem\\lib\\site-packages\\sklearn\\model_selection\\_split.py:296: FutureWarning: Setting a random_state has no effect since shuffle is False. This will raise an error in 0.24. You should leave random_state to its default (None), or set shuffle=True.\n",
      "  FutureWarning\n"
     ]
    }
   ],
   "source": [
    "cv = StratifiedKFold(n_splits=10, random_state=seed)"
   ]
  },
  {
   "cell_type": "code",
   "execution_count": 14,
   "id": "e617d223-1111-4d7d-a9b6-2a7ecd4ccdf5",
   "metadata": {},
   "outputs": [],
   "source": [
    "from sklearn.ensemble import GradientBoostingClassifier"
   ]
  },
  {
   "cell_type": "code",
   "execution_count": 150,
   "id": "8bc58e64-0775-424b-84cb-1d67a414b43a",
   "metadata": {},
   "outputs": [],
   "source": [
    "param_grid = {'n_estimators': np.arange(100, 600, 100),\n",
    "             'learning_rate': np.arange(0.001, 0.1, 0.001)}"
   ]
  },
  {
   "cell_type": "code",
   "execution_count": 151,
   "id": "4329c1b2-4ab6-40a4-a23e-30757b1cc171",
   "metadata": {},
   "outputs": [],
   "source": [
    "gbdt = GridSearchCV(GradientBoostingClassifier(random_state=seed), param_grid=param_grid, cv=cv, n_jobs=-1, verbose=1)\n"
   ]
  },
  {
   "cell_type": "code",
   "execution_count": 152,
   "id": "f7d43595-ed68-44cd-aa9b-f1d4b369bb43",
   "metadata": {},
   "outputs": [
    {
     "name": "stderr",
     "output_type": "stream",
     "text": [
      "[Parallel(n_jobs=-1)]: Using backend LokyBackend with 20 concurrent workers.\n"
     ]
    },
    {
     "name": "stdout",
     "output_type": "stream",
     "text": [
      "Fitting 10 folds for each of 495 candidates, totalling 4950 fits\n"
     ]
    },
    {
     "name": "stderr",
     "output_type": "stream",
     "text": [
      "[Parallel(n_jobs=-1)]: Done  10 tasks      | elapsed:    4.2s\n",
      "[Parallel(n_jobs=-1)]: Done 160 tasks      | elapsed:   53.3s\n",
      "[Parallel(n_jobs=-1)]: Done 410 tasks      | elapsed:  2.4min\n",
      "[Parallel(n_jobs=-1)]: Done 760 tasks      | elapsed:  4.8min\n",
      "[Parallel(n_jobs=-1)]: Done 1210 tasks      | elapsed:  8.0min\n",
      "[Parallel(n_jobs=-1)]: Done 1760 tasks      | elapsed: 12.0min\n",
      "[Parallel(n_jobs=-1)]: Done 2410 tasks      | elapsed: 16.8min\n",
      "[Parallel(n_jobs=-1)]: Done 3160 tasks      | elapsed: 22.4min\n",
      "[Parallel(n_jobs=-1)]: Done 4010 tasks      | elapsed: 28.9min\n",
      "[Parallel(n_jobs=-1)]: Done 4950 out of 4950 | elapsed: 36.0min finished\n"
     ]
    },
    {
     "data": {
      "text/plain": [
       "GridSearchCV(cv=StratifiedKFold(n_splits=10, random_state=42, shuffle=False),\n",
       "             error_score=nan,\n",
       "             estimator=GradientBoostingClassifier(ccp_alpha=0.0,\n",
       "                                                  criterion='friedman_mse',\n",
       "                                                  init=None, learning_rate=0.1,\n",
       "                                                  loss='deviance', max_depth=3,\n",
       "                                                  max_features=None,\n",
       "                                                  max_leaf_nodes=None,\n",
       "                                                  min_impurity_decrease=0.0,\n",
       "                                                  min_impurity_split=None,\n",
       "                                                  min_samples_leaf=1,\n",
       "                                                  min_samples_split=2,...\n",
       "       0.055, 0.056, 0.057, 0.058, 0.059, 0.06 , 0.061, 0.062, 0.063,\n",
       "       0.064, 0.065, 0.066, 0.067, 0.068, 0.069, 0.07 , 0.071, 0.072,\n",
       "       0.073, 0.074, 0.075, 0.076, 0.077, 0.078, 0.079, 0.08 , 0.081,\n",
       "       0.082, 0.083, 0.084, 0.085, 0.086, 0.087, 0.088, 0.089, 0.09 ,\n",
       "       0.091, 0.092, 0.093, 0.094, 0.095, 0.096, 0.097, 0.098, 0.099]),\n",
       "                         'n_estimators': array([100, 200, 300, 400, 500])},\n",
       "             pre_dispatch='2*n_jobs', refit=True, return_train_score=False,\n",
       "             scoring=None, verbose=1)"
      ]
     },
     "execution_count": 152,
     "metadata": {},
     "output_type": "execute_result"
    }
   ],
   "source": [
    "gbdt.fit(x_train_scaled, y_train)"
   ]
  },
  {
   "cell_type": "code",
   "execution_count": 153,
   "id": "65cddce3-5372-46e8-81f8-7147e344198e",
   "metadata": {},
   "outputs": [
    {
     "data": {
      "text/plain": [
       "{'learning_rate': 0.059000000000000004, 'n_estimators': 500}"
      ]
     },
     "execution_count": 153,
     "metadata": {},
     "output_type": "execute_result"
    }
   ],
   "source": [
    "gbdt.best_params_"
   ]
  },
  {
   "cell_type": "code",
   "execution_count": 154,
   "id": "4b8eccdb-6fe3-46a9-84ad-c417e4bdddf2",
   "metadata": {},
   "outputs": [
    {
     "data": {
      "text/plain": [
       "0.7794117647058825"
      ]
     },
     "execution_count": 154,
     "metadata": {},
     "output_type": "execute_result"
    }
   ],
   "source": [
    "gbdt.best_score_"
   ]
  },
  {
   "cell_type": "code",
   "execution_count": 74,
   "id": "4a394c5e-af27-4c48-a74d-36eb5e1a6c92",
   "metadata": {},
   "outputs": [
    {
     "data": {
      "text/plain": [
       "array([0.75882353, 0.76470588, 0.76176471, 0.76764706, 0.77058824,\n",
       "       0.76764706, 0.76764706, 0.76764706, 0.76764706, 0.76176471,\n",
       "       0.76470588])"
      ]
     },
     "execution_count": 74,
     "metadata": {},
     "output_type": "execute_result"
    }
   ],
   "source": [
    "gbdt.cv_results_['mean_test_score']"
   ]
  },
  {
   "cell_type": "code",
   "execution_count": 75,
   "id": "49f7d5cc-231c-4062-b300-2ebf0e2917b4",
   "metadata": {},
   "outputs": [
    {
     "data": {
      "text/plain": [
       "[{'n_estimators': 200},\n",
       " {'n_estimators': 210},\n",
       " {'n_estimators': 220},\n",
       " {'n_estimators': 230},\n",
       " {'n_estimators': 240},\n",
       " {'n_estimators': 250},\n",
       " {'n_estimators': 260},\n",
       " {'n_estimators': 270},\n",
       " {'n_estimators': 280},\n",
       " {'n_estimators': 290},\n",
       " {'n_estimators': 300}]"
      ]
     },
     "execution_count": 75,
     "metadata": {},
     "output_type": "execute_result"
    }
   ],
   "source": [
    "gbdt.cv_results_['params']"
   ]
  },
  {
   "cell_type": "code",
   "execution_count": 242,
   "id": "ce4fea5a-140e-4bc4-a525-1c486aaa38da",
   "metadata": {},
   "outputs": [],
   "source": [
    "gbdt_2c8 = GradientBoostingClassifier(random_state=seed, n_estimators=300, learning_rate=0.01, max_depth=5)"
   ]
  },
  {
   "cell_type": "code",
   "execution_count": 243,
   "id": "474646ee-8617-46b7-9251-1261d2900f68",
   "metadata": {},
   "outputs": [
    {
     "data": {
      "text/plain": [
       "GradientBoostingClassifier(ccp_alpha=0.0, criterion='friedman_mse', init=None,\n",
       "                           learning_rate=0.01, loss='deviance', max_depth=5,\n",
       "                           max_features=None, max_leaf_nodes=None,\n",
       "                           min_impurity_decrease=0.0, min_impurity_split=None,\n",
       "                           min_samples_leaf=1, min_samples_split=2,\n",
       "                           min_weight_fraction_leaf=0.0, n_estimators=300,\n",
       "                           n_iter_no_change=None, presort='deprecated',\n",
       "                           random_state=42, subsample=1.0, tol=0.0001,\n",
       "                           validation_fraction=0.1, verbose=0,\n",
       "                           warm_start=False)"
      ]
     },
     "execution_count": 243,
     "metadata": {},
     "output_type": "execute_result"
    }
   ],
   "source": [
    "gbdt_2c8.fit(x_train_scaled, y_train)"
   ]
  },
  {
   "cell_type": "code",
   "execution_count": 23,
   "id": "9cf84a17-6cee-4727-a6eb-ba086daa6da2",
   "metadata": {},
   "outputs": [],
   "source": [
    "from sklearn.model_selection import cross_val_score\n",
    "from sklearn.metrics import matthews_corrcoef, accuracy_score, roc_auc_score, make_scorer, recall_score"
   ]
  },
  {
   "cell_type": "code",
   "execution_count": 24,
   "id": "c93bafb4-881b-460d-800c-6968ec3e2aa2",
   "metadata": {},
   "outputs": [],
   "source": [
    "matthews = make_scorer(matthews_corrcoef)\n",
    "specificity = make_scorer(recall_score, pos_label=0)"
   ]
  },
  {
   "cell_type": "code",
   "execution_count": 225,
   "id": "e17b1564-625c-4d59-95be-0cfb2c38cc8c",
   "metadata": {},
   "outputs": [
    {
     "data": {
      "text/plain": [
       "0.7823529411764707"
      ]
     },
     "execution_count": 225,
     "metadata": {},
     "output_type": "execute_result"
    }
   ],
   "source": [
    "cross_val_score(gbdt_2c8, x_train_scaled, y_train, cv=cv, scoring='accuracy').mean()"
   ]
  },
  {
   "cell_type": "code",
   "execution_count": 226,
   "id": "040a6eb6-eb61-4630-a69a-f019b9b2a44c",
   "metadata": {},
   "outputs": [
    {
     "data": {
      "text/plain": [
       "0.8375501253132832"
      ]
     },
     "execution_count": 226,
     "metadata": {},
     "output_type": "execute_result"
    }
   ],
   "source": [
    "cross_val_score(gbdt_2c8, x_train_scaled, y_train, cv=cv, scoring='roc_auc').mean()"
   ]
  },
  {
   "cell_type": "code",
   "execution_count": 227,
   "id": "aae8c034-8d6a-4093-97ea-60d51c007d26",
   "metadata": {},
   "outputs": [
    {
     "data": {
      "text/plain": [
       "0.5532199023212488"
      ]
     },
     "execution_count": 227,
     "metadata": {},
     "output_type": "execute_result"
    }
   ],
   "source": [
    "cross_val_score(gbdt_2c8, x_train_scaled, y_train, cv=cv, scoring=matthews).mean()"
   ]
  },
  {
   "cell_type": "code",
   "execution_count": 228,
   "id": "1303e4f7-142a-4746-912b-643ec70b4527",
   "metadata": {},
   "outputs": [
    {
     "data": {
      "text/plain": [
       "0.8489473684210527"
      ]
     },
     "execution_count": 228,
     "metadata": {},
     "output_type": "execute_result"
    }
   ],
   "source": [
    "cross_val_score(gbdt_2c8, x_train_scaled, y_train, cv=cv, scoring='recall').mean()"
   ]
  },
  {
   "cell_type": "code",
   "execution_count": 229,
   "id": "21497e80-ae4e-4c88-ad11-994f1e0bc274",
   "metadata": {},
   "outputs": [
    {
     "data": {
      "text/plain": [
       "0.689047619047619"
      ]
     },
     "execution_count": 229,
     "metadata": {},
     "output_type": "execute_result"
    }
   ],
   "source": [
    "cross_val_score(gbdt_2c8, x_train_scaled, y_train, cv=cv, scoring=specificity).mean()"
   ]
  },
  {
   "cell_type": "code",
   "execution_count": 230,
   "id": "35420ad7-0f0f-43ae-820a-d2da6005a9a7",
   "metadata": {},
   "outputs": [],
   "source": [
    "y_pred = gbdt_2c8.predict(x_test_scaled)"
   ]
  },
  {
   "cell_type": "code",
   "execution_count": 231,
   "id": "afe778f1-1882-4bcd-9abb-a16ec5120c93",
   "metadata": {},
   "outputs": [
    {
     "data": {
      "text/plain": [
       "0.7757009345794392"
      ]
     },
     "execution_count": 231,
     "metadata": {},
     "output_type": "execute_result"
    }
   ],
   "source": [
    "accuracy_score(y_test, y_pred)"
   ]
  },
  {
   "cell_type": "code",
   "execution_count": 232,
   "id": "60987af2-ccac-4417-aced-e19b06a6608c",
   "metadata": {},
   "outputs": [
    {
     "data": {
      "text/plain": [
       "0.8298226164079823"
      ]
     },
     "execution_count": 232,
     "metadata": {},
     "output_type": "execute_result"
    }
   ],
   "source": [
    "roc_auc_score(y_test, gbdt_2c8.decision_function(x_test_scaled))"
   ]
  },
  {
   "cell_type": "code",
   "execution_count": 233,
   "id": "6724ad6c-c9e3-4781-bdc3-0189cdc9bbb5",
   "metadata": {},
   "outputs": [
    {
     "data": {
      "text/plain": [
       "0.53024968623889"
      ]
     },
     "execution_count": 233,
     "metadata": {},
     "output_type": "execute_result"
    }
   ],
   "source": [
    "matthews_corrcoef(y_test, y_pred)"
   ]
  },
  {
   "cell_type": "code",
   "execution_count": 234,
   "id": "b5c10f2f-abdb-4c21-954e-3dc9cb731a68",
   "metadata": {},
   "outputs": [
    {
     "data": {
      "text/plain": [
       "0.803030303030303"
      ]
     },
     "execution_count": 234,
     "metadata": {},
     "output_type": "execute_result"
    }
   ],
   "source": [
    "recall_score(y_test, y_pred)"
   ]
  },
  {
   "cell_type": "code",
   "execution_count": 235,
   "id": "615c1b0c-ca92-440f-8bda-37f8a74338e3",
   "metadata": {},
   "outputs": [
    {
     "data": {
      "text/plain": [
       "0.7317073170731707"
      ]
     },
     "execution_count": 235,
     "metadata": {},
     "output_type": "execute_result"
    }
   ],
   "source": [
    "recall_score(y_test, y_pred, pos_label=0)"
   ]
  },
  {
   "cell_type": "code",
   "execution_count": 41,
   "id": "78dacc43-7206-429f-9af9-41990cab68df",
   "metadata": {},
   "outputs": [],
   "source": [
    "import matplotlib.pyplot as plt"
   ]
  },
  {
   "cell_type": "code",
   "execution_count": 222,
   "id": "96645e97-0d61-443c-8739-2f19974a3ef9",
   "metadata": {},
   "outputs": [
    {
     "name": "stdout",
     "output_type": "stream",
     "text": [
      "0.7823529411764707 2\n",
      "0.822429906542056 5\n"
     ]
    },
    {
     "data": {
      "text/plain": [
       "<matplotlib.legend.Legend at 0x205610789c8>"
      ]
     },
     "execution_count": 222,
     "metadata": {},
     "output_type": "execute_result"
    },
    {
     "data": {
      "image/png": "[encoded data removed]",
      "text/plain": [
       "<Figure size 2000x1000 with 1 Axes>"
      ]
     },
     "metadata": {},
     "output_type": "display_data"
    }
   ],
   "source": [
    "training_acc = []\n",
    "test_acc = []\n",
    "\n",
    "for i in np.arange(3, 11, 1):\n",
    "    gbdt_2c8 = GradientBoostingClassifier(random_state=seed, n_estimators=300, learning_rate=0.01, max_depth=i)\n",
    "    gbdt_2c8.fit(x_train_scaled, y_train)\n",
    "    training_acc.append(cross_val_score(gbdt_2c8, x_train_scaled, y_train, cv=cv, scoring='accuracy').mean())\n",
    "    y_pred = gbdt_2c8.predict(x_test_scaled)\n",
    "    test_acc.append(accuracy_score(y_test, y_pred))\n",
    "print(max(training_acc),(training_acc.index(max(training_acc))))\n",
    "print(max(test_acc),(test_acc.index(max(test_acc))))\n",
    "plt.figure(figsize=(20, 10))\n",
    "plt.plot(np.arange(3, 11, 1), training_acc, label=\"training_acc\")\n",
    "plt.plot(np.arange(3, 11, 1), test_acc, label=\"test_acc\")\n",
    "plt.xlabel(\"learning_rate\")\n",
    "plt.ylabel(\"Accuracy\")\n",
    "xticks = np.arange(3, 11, 1)\n",
    "plt.xticks(xticks)\n",
    "plt.legend()"
   ]
  },
  {
   "cell_type": "code",
   "execution_count": 244,
   "id": "cf086261-22e9-4cfa-b577-fdc0b2e49d84",
   "metadata": {},
   "outputs": [],
   "source": [
    "y_pred_valid = gbdt_2c8.predict(x_valid_scaled)"
   ]
  },
  {
   "cell_type": "code",
   "execution_count": 245,
   "id": "0e30583d-c5d9-4886-aa1f-70bf254e6266",
   "metadata": {},
   "outputs": [
    {
     "data": {
      "text/plain": [
       "0.7674418604651163"
      ]
     },
     "execution_count": 245,
     "metadata": {},
     "output_type": "execute_result"
    }
   ],
   "source": [
    "accuracy_score(y_valid, y_pred_valid)"
   ]
  },
  {
   "cell_type": "code",
   "execution_count": 246,
   "id": "35ccb84b-4e82-44ec-9f91-b761a6a5455a",
   "metadata": {},
   "outputs": [
    {
     "data": {
      "text/plain": [
       "0.8608837970540097"
      ]
     },
     "execution_count": 246,
     "metadata": {},
     "output_type": "execute_result"
    }
   ],
   "source": [
    "roc_auc_score(y_valid, gbdt_2c8.decision_function(x_valid_scaled))"
   ]
  },
  {
   "cell_type": "code",
   "execution_count": 247,
   "id": "3367560d-078c-40d2-8f14-acf342781bc1",
   "metadata": {},
   "outputs": [
    {
     "data": {
      "text/plain": [
       "0.5300173363804058"
      ]
     },
     "execution_count": 247,
     "metadata": {},
     "output_type": "execute_result"
    }
   ],
   "source": [
    "matthews_corrcoef(y_valid, y_pred_valid)"
   ]
  },
  {
   "cell_type": "code",
   "execution_count": 248,
   "id": "878302ed-1078-4699-bb25-928a72928eb5",
   "metadata": {},
   "outputs": [
    {
     "data": {
      "text/plain": [
       "0.851063829787234"
      ]
     },
     "execution_count": 248,
     "metadata": {},
     "output_type": "execute_result"
    }
   ],
   "source": [
    "recall_score(y_valid, y_pred_valid)"
   ]
  },
  {
   "cell_type": "code",
   "execution_count": 249,
   "id": "c55c2a0f-570b-4ecb-9ab7-db5310c163e6",
   "metadata": {},
   "outputs": [
    {
     "data": {
      "text/plain": [
       "0.6666666666666666"
      ]
     },
     "execution_count": 249,
     "metadata": {},
     "output_type": "execute_result"
    }
   ],
   "source": [
    "recall_score(y_valid, y_pred_valid, pos_label=0)"
   ]
  },
  {
   "cell_type": "code",
   "execution_count": 250,
   "id": "168a09fd-61ad-4181-aa32-fc6ae020c20e",
   "metadata": {},
   "outputs": [
    {
     "data": {
      "text/plain": [
       "['2c8_ecfp4_gbdt.pkl']"
      ]
     },
     "execution_count": 250,
     "metadata": {},
     "output_type": "execute_result"
    }
   ],
   "source": [
    "dump(gbdt_2c8, '2c8_ecfp4_gbdt.pkl', compress=3)"
   ]
  },
  {
   "cell_type": "code",
   "execution_count": null,
   "id": "cafb3816-a098-490d-86ee-fb0444ae877a",
   "metadata": {},
   "outputs": [],
   "source": []
  }
 ],
 "metadata": {
  "kernelspec": {
   "display_name": "Python 3 (ipykernel)",
   "language": "python",
   "name": "python3"
  },
  "language_info": {
   "codemirror_mode": {
    "name": "ipython",
    "version": 3
   },
   "file_extension": ".py",
   "mimetype": "text/x-python",
   "name": "python",
   "nbconvert_exporter": "python",
   "pygments_lexer": "ipython3",
   "version": "3.7.12"
  }
 },
 "nbformat": 4,
 "nbformat_minor": 5
}
