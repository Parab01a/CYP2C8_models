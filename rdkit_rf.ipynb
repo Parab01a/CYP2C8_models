{
 "cells": [
  {
   "cell_type": "code",
   "execution_count": 1,
   "id": "1642eb42-9595-4398-b5b6-ad7fe823329e",
   "metadata": {},
   "outputs": [],
   "source": [
    "from joblib import dump, load"
   ]
  },
  {
   "cell_type": "code",
   "execution_count": 2,
   "id": "3bb1e3cf-658e-412e-893a-00a1b02567a4",
   "metadata": {},
   "outputs": [],
   "source": [
    "x_train = load('x_train_rdkit.pkl')\n",
    "x_test = load('x_test_rdkit.pkl')\n",
    "x_valid = load('x_valid_rdkit.pkl')"
   ]
  },
  {
   "cell_type": "code",
   "execution_count": 3,
   "id": "ef9f4bf9-0feb-4ef8-95c4-ad17a12bd2bc",
   "metadata": {},
   "outputs": [],
   "source": [
    "y_train = load('y_train.pkl')\n",
    "y_test = load('y_test.pkl')\n",
    "y_valid = load('y_valid.pkl')"
   ]
  },
  {
   "cell_type": "code",
   "execution_count": 4,
   "id": "10f36dd6-7508-4bd0-ae7d-2c208d583a68",
   "metadata": {},
   "outputs": [],
   "source": [
    "from sklearn.model_selection import StratifiedKFold, GridSearchCV"
   ]
  },
  {
   "cell_type": "code",
   "execution_count": 5,
   "id": "c2056e28-b89a-47e1-b449-762b0c3919ec",
   "metadata": {},
   "outputs": [],
   "source": [
    "seed = 42"
   ]
  },
  {
   "cell_type": "code",
   "execution_count": 6,
   "id": "e5891e55-790f-4d0d-a8b3-ec3ca4426b93",
   "metadata": {},
   "outputs": [
    {
     "name": "stderr",
     "output_type": "stream",
     "text": [
      "D:\\Anaconda3\\envs\\deepchem\\lib\\site-packages\\sklearn\\model_selection\\_split.py:296: FutureWarning: Setting a random_state has no effect since shuffle is False. This will raise an error in 0.24. You should leave random_state to its default (None), or set shuffle=True.\n",
      "  FutureWarning\n"
     ]
    }
   ],
   "source": [
    "cv = StratifiedKFold(n_splits=10, random_state=seed)"
   ]
  },
  {
   "cell_type": "code",
   "execution_count": 7,
   "id": "5d19e2cc-2c68-4dd6-8b6d-678a3e3b6432",
   "metadata": {},
   "outputs": [],
   "source": [
    "from sklearn.preprocessing import StandardScaler"
   ]
  },
  {
   "cell_type": "code",
   "execution_count": 8,
   "id": "cf9ba55c-4a99-4803-b930-242b000e1004",
   "metadata": {},
   "outputs": [],
   "source": [
    "scale = StandardScaler().fit(x_train)\n",
    "x_train_scaled = scale.transform(x_train)\n",
    "x_test_scaled = scale.transform(x_test)\n",
    "x_valid_scaled = scale.transform(x_valid)"
   ]
  },
  {
   "cell_type": "code",
   "execution_count": 9,
   "id": "510a038e-0bb0-45a7-999a-febc03158942",
   "metadata": {},
   "outputs": [],
   "source": [
    "from sklearn.ensemble import RandomForestClassifier\n",
    "import numpy as np"
   ]
  },
  {
   "cell_type": "code",
   "execution_count": 231,
   "id": "b34d4d55-0107-422d-b94a-5ef1cfaa7726",
   "metadata": {},
   "outputs": [],
   "source": [
    "param_grid = {'n_estimators':np.arange(700, 860, 10)}"
   ]
  },
  {
   "cell_type": "code",
   "execution_count": 232,
   "id": "51927101-fe34-43da-a76b-627a17d889c6",
   "metadata": {
    "scrolled": true,
    "tags": []
   },
   "outputs": [],
   "source": [
    "rf = GridSearchCV(RandomForestClassifier(class_weight='balanced', random_state=seed, max_features=94), param_grid=param_grid, cv=cv, n_jobs=-1, verbose=1)"
   ]
  },
  {
   "cell_type": "code",
   "execution_count": 233,
   "id": "fa8782bf-98bc-423f-8fcb-233ba8d38c34",
   "metadata": {
    "tags": []
   },
   "outputs": [
    {
     "name": "stdout",
     "output_type": "stream",
     "text": [
      "Fitting 10 folds for each of 16 candidates, totalling 160 fits\n"
     ]
    },
    {
     "name": "stderr",
     "output_type": "stream",
     "text": [
      "[Parallel(n_jobs=-1)]: Using backend LokyBackend with 20 concurrent workers.\n",
      "[Parallel(n_jobs=-1)]: Done  10 tasks      | elapsed:    2.2s\n",
      "[Parallel(n_jobs=-1)]: Done 160 out of 160 | elapsed:   20.6s finished\n"
     ]
    },
    {
     "data": {
      "text/plain": [
       "GridSearchCV(cv=StratifiedKFold(n_splits=10, random_state=42, shuffle=False),\n",
       "             error_score=nan,\n",
       "             estimator=RandomForestClassifier(bootstrap=True, ccp_alpha=0.0,\n",
       "                                              class_weight='balanced',\n",
       "                                              criterion='gini', max_depth=None,\n",
       "                                              max_features=94,\n",
       "                                              max_leaf_nodes=None,\n",
       "                                              max_samples=None,\n",
       "                                              min_impurity_decrease=0.0,\n",
       "                                              min_impurity_split=None,\n",
       "                                              min_samples_leaf=1,\n",
       "                                              min_samples_split=2,\n",
       "                                              min_weight_fraction_leaf=0.0,\n",
       "                                              n_estimators=100, n_jobs=None,\n",
       "                                              oob_score=False, random_state=42,\n",
       "                                              verbose=0, warm_start=False),\n",
       "             iid='deprecated', n_jobs=-1,\n",
       "             param_grid={'n_estimators': array([700, 710, 720, 730, 740, 750, 760, 770, 780, 790, 800, 810, 820,\n",
       "       830, 840, 850])},\n",
       "             pre_dispatch='2*n_jobs', refit=True, return_train_score=False,\n",
       "             scoring=None, verbose=1)"
      ]
     },
     "execution_count": 233,
     "metadata": {},
     "output_type": "execute_result"
    }
   ],
   "source": [
    "rf.fit(x_train_scaled, y_train)"
   ]
  },
  {
   "cell_type": "code",
   "execution_count": 234,
   "id": "8d36706c-ee71-45f9-8ff9-0033cd413c3f",
   "metadata": {},
   "outputs": [
    {
     "data": {
      "text/plain": [
       "{'n_estimators': 750}"
      ]
     },
     "execution_count": 234,
     "metadata": {},
     "output_type": "execute_result"
    }
   ],
   "source": [
    "rf.best_params_"
   ]
  },
  {
   "cell_type": "code",
   "execution_count": 235,
   "id": "5e359cb1-8ebc-4b18-a190-a39fc3355681",
   "metadata": {},
   "outputs": [
    {
     "data": {
      "text/plain": [
       "0.8"
      ]
     },
     "execution_count": 235,
     "metadata": {},
     "output_type": "execute_result"
    }
   ],
   "source": [
    "rf.best_score_"
   ]
  },
  {
   "cell_type": "code",
   "execution_count": 236,
   "id": "dce64a70-42eb-4d8f-ad6a-9b40c15e408d",
   "metadata": {},
   "outputs": [
    {
     "data": {
      "text/plain": [
       "array([0.79411765, 0.79705882, 0.79411765, 0.79705882, 0.79705882,\n",
       "       0.8       , 0.79705882, 0.79705882, 0.79705882, 0.79705882,\n",
       "       0.79411765, 0.79411765, 0.79411765, 0.79411765, 0.79411765,\n",
       "       0.79411765])"
      ]
     },
     "execution_count": 236,
     "metadata": {},
     "output_type": "execute_result"
    }
   ],
   "source": [
    "rf.cv_results_['mean_test_score']"
   ]
  },
  {
   "cell_type": "code",
   "execution_count": 237,
   "id": "a4fff219-ac56-43a0-a24a-edaacab13314",
   "metadata": {
    "tags": []
   },
   "outputs": [
    {
     "data": {
      "text/plain": [
       "[{'n_estimators': 700},\n",
       " {'n_estimators': 710},\n",
       " {'n_estimators': 720},\n",
       " {'n_estimators': 730},\n",
       " {'n_estimators': 740},\n",
       " {'n_estimators': 750},\n",
       " {'n_estimators': 760},\n",
       " {'n_estimators': 770},\n",
       " {'n_estimators': 780},\n",
       " {'n_estimators': 790},\n",
       " {'n_estimators': 800},\n",
       " {'n_estimators': 810},\n",
       " {'n_estimators': 820},\n",
       " {'n_estimators': 830},\n",
       " {'n_estimators': 840},\n",
       " {'n_estimators': 850}]"
      ]
     },
     "execution_count": 237,
     "metadata": {},
     "output_type": "execute_result"
    }
   ],
   "source": [
    "rf.cv_results_['params']"
   ]
  },
  {
   "cell_type": "code",
   "execution_count": 520,
   "id": "6b79afb4-6526-4aeb-98f5-1b0d4b7833ef",
   "metadata": {},
   "outputs": [],
   "source": [
    "rf_2c8 = RandomForestClassifier(class_weight='balanced', random_state=seed, n_estimators=100, max_features=73)"
   ]
  },
  {
   "cell_type": "code",
   "execution_count": 521,
   "id": "969dcbc1-c5d2-4935-ab7f-d9c1a9b44248",
   "metadata": {},
   "outputs": [
    {
     "data": {
      "text/plain": [
       "RandomForestClassifier(bootstrap=True, ccp_alpha=0.0, class_weight='balanced',\n",
       "                       criterion='gini', max_depth=None, max_features=73,\n",
       "                       max_leaf_nodes=None, max_samples=None,\n",
       "                       min_impurity_decrease=0.0, min_impurity_split=None,\n",
       "                       min_samples_leaf=1, min_samples_split=2,\n",
       "                       min_weight_fraction_leaf=0.0, n_estimators=100,\n",
       "                       n_jobs=None, oob_score=False, random_state=42, verbose=0,\n",
       "                       warm_start=False)"
      ]
     },
     "execution_count": 521,
     "metadata": {},
     "output_type": "execute_result"
    }
   ],
   "source": [
    "rf_2c8.fit(x_train_scaled, y_train)"
   ]
  },
  {
   "cell_type": "code",
   "execution_count": 135,
   "id": "a07aece4-3c71-4cb3-901a-c7e37aa759ea",
   "metadata": {},
   "outputs": [],
   "source": [
    "from sklearn.model_selection import cross_val_score\n",
    "from sklearn.metrics import matthews_corrcoef, accuracy_score, roc_auc_score, make_scorer, recall_score"
   ]
  },
  {
   "cell_type": "code",
   "execution_count": 136,
   "id": "827a0453-c814-46af-8dae-ddf23c853461",
   "metadata": {},
   "outputs": [],
   "source": [
    "matthews = make_scorer(matthews_corrcoef)\n",
    "specificity = make_scorer(recall_score, pos_label=0)"
   ]
  },
  {
   "cell_type": "code",
   "execution_count": 522,
   "id": "ce75b573-1e33-41c7-ab1d-c1d1be5c9a6b",
   "metadata": {},
   "outputs": [
    {
     "data": {
      "text/plain": [
       "0.7794117647058824"
      ]
     },
     "execution_count": 522,
     "metadata": {},
     "output_type": "execute_result"
    }
   ],
   "source": [
    "cross_val_score(rf_2c8, x_train_scaled, y_train, cv=cv, scoring='accuracy').mean()"
   ]
  },
  {
   "cell_type": "code",
   "execution_count": 523,
   "id": "262cc149-92aa-4ec7-aecd-37c8c089fd97",
   "metadata": {},
   "outputs": [
    {
     "data": {
      "text/plain": [
       "0.871748120300752"
      ]
     },
     "execution_count": 523,
     "metadata": {},
     "output_type": "execute_result"
    }
   ],
   "source": [
    "cross_val_score(rf_2c8, x_train_scaled, y_train, cv=cv, scoring='roc_auc').mean()"
   ]
  },
  {
   "cell_type": "code",
   "execution_count": 524,
   "id": "cca5b1e1-f725-4307-a4e2-e8c71f6a9181",
   "metadata": {},
   "outputs": [
    {
     "data": {
      "text/plain": [
       "0.5431791287712279"
      ]
     },
     "execution_count": 524,
     "metadata": {},
     "output_type": "execute_result"
    }
   ],
   "source": [
    "cross_val_score(rf_2c8, x_train_scaled, y_train, cv=cv, scoring=matthews).mean()"
   ]
  },
  {
   "cell_type": "code",
   "execution_count": 525,
   "id": "9bd1052e-607c-4121-8907-9a2ccd40f6fc",
   "metadata": {},
   "outputs": [
    {
     "data": {
      "text/plain": [
       "0.8892105263157895"
      ]
     },
     "execution_count": 525,
     "metadata": {},
     "output_type": "execute_result"
    }
   ],
   "source": [
    "cross_val_score(rf_2c8, x_train_scaled, y_train, cv=cv, scoring='recall').mean()"
   ]
  },
  {
   "cell_type": "code",
   "execution_count": 526,
   "id": "257983a8-123b-4ca2-92c1-255877be8da1",
   "metadata": {},
   "outputs": [
    {
     "data": {
      "text/plain": [
       "0.6238095238095238"
      ]
     },
     "execution_count": 526,
     "metadata": {},
     "output_type": "execute_result"
    }
   ],
   "source": [
    "cross_val_score(rf_2c8, x_train_scaled, y_train, cv=cv, scoring=specificity).mean()"
   ]
  },
  {
   "cell_type": "code",
   "execution_count": 527,
   "id": "7ec61c99-a928-4503-818d-6fbdb6883cd3",
   "metadata": {},
   "outputs": [],
   "source": [
    "y_pred = rf_2c8.predict(x_test_scaled)"
   ]
  },
  {
   "cell_type": "code",
   "execution_count": 528,
   "id": "8ba5ac08-d5d7-4dfa-aec7-e9c4e726f65f",
   "metadata": {},
   "outputs": [
    {
     "data": {
      "text/plain": [
       "array([1, 0, 1, 0, 1, 1, 0, 0, 0, 1, 0, 1, 1, 0, 1, 1, 1, 1, 0, 1, 1, 1,\n",
       "       0, 1, 1, 1, 1, 0, 0, 1, 0, 1, 1, 1, 0, 1, 0, 1, 1, 1, 1, 1, 0, 1,\n",
       "       1, 0, 1, 1, 0, 1, 1, 1, 0, 1, 1, 1, 0, 0, 1, 1, 0, 1, 0, 0, 0, 1,\n",
       "       0, 1, 1, 1, 1, 1, 1, 1, 0, 0, 1, 0, 1, 1, 0, 1, 1, 0, 0, 1, 1, 0,\n",
       "       1, 0, 1, 0, 1, 1, 1, 1, 1, 1, 1, 1, 1, 0, 1, 1, 1, 0, 1])"
      ]
     },
     "execution_count": 528,
     "metadata": {},
     "output_type": "execute_result"
    }
   ],
   "source": [
    "y_pred"
   ]
  },
  {
   "cell_type": "code",
   "execution_count": 529,
   "id": "a5926804-ed76-4bbe-9c10-cef4cb56d488",
   "metadata": {},
   "outputs": [
    {
     "data": {
      "text/plain": [
       "0.7663551401869159"
      ]
     },
     "execution_count": 529,
     "metadata": {},
     "output_type": "execute_result"
    }
   ],
   "source": [
    "accuracy_score(y_test, y_pred)"
   ]
  },
  {
   "cell_type": "code",
   "execution_count": 530,
   "id": "db86e4c2-21de-41e0-be81-fca3a2656588",
   "metadata": {},
   "outputs": [
    {
     "data": {
      "text/plain": [
       "0.791019955654102"
      ]
     },
     "execution_count": 530,
     "metadata": {},
     "output_type": "execute_result"
    }
   ],
   "source": [
    "roc_auc_score(y_test, rf_2c8.predict_proba(x_test_scaled)[:,1])"
   ]
  },
  {
   "cell_type": "code",
   "execution_count": 531,
   "id": "b404669a-cab9-49d6-a942-65d6796d5997",
   "metadata": {},
   "outputs": [
    {
     "data": {
      "text/plain": [
       "0.49659101342415307"
      ]
     },
     "execution_count": 531,
     "metadata": {},
     "output_type": "execute_result"
    }
   ],
   "source": [
    "matthews_corrcoef(y_test, y_pred)"
   ]
  },
  {
   "cell_type": "code",
   "execution_count": 532,
   "id": "e36113d4-498b-4b06-a670-7ba9bffada84",
   "metadata": {},
   "outputs": [
    {
     "data": {
      "text/plain": [
       "0.8484848484848485"
      ]
     },
     "execution_count": 532,
     "metadata": {},
     "output_type": "execute_result"
    }
   ],
   "source": [
    "recall_score(y_test, y_pred)"
   ]
  },
  {
   "cell_type": "code",
   "execution_count": 533,
   "id": "1602863e-ef9e-489e-99f5-778240f2c772",
   "metadata": {},
   "outputs": [
    {
     "data": {
      "text/plain": [
       "0.6341463414634146"
      ]
     },
     "execution_count": 533,
     "metadata": {},
     "output_type": "execute_result"
    }
   ],
   "source": [
    "recall_score(y_test, y_pred, pos_label=0)"
   ]
  },
  {
   "cell_type": "code",
   "execution_count": 438,
   "id": "e375f08b-d730-4af4-ba37-be4fd530aa4d",
   "metadata": {},
   "outputs": [],
   "source": [
    "import matplotlib.pyplot as plt"
   ]
  },
  {
   "cell_type": "code",
   "execution_count": 481,
   "id": "e0c61391-5a5f-4e0d-a969-e204aa946681",
   "metadata": {},
   "outputs": [
    {
     "name": "stdout",
     "output_type": "stream",
     "text": [
      "0.7941176470588236 2\n",
      "0.7663551401869159 1\n"
     ]
    },
    {
     "data": {
      "text/plain": [
       "<matplotlib.legend.Legend at 0x2df330aae88>"
      ]
     },
     "execution_count": 481,
     "metadata": {},
     "output_type": "execute_result"
    },
    {
     "data": {
      "image/png": "[encoded data removed]",
      "text/plain": [
       "<Figure size 3000x1000 with 1 Axes>"
      ]
     },
     "metadata": {},
     "output_type": "display_data"
    }
   ],
   "source": [
    "training_acc = []\n",
    "test_acc = []\n",
    "\n",
    "for i in np.arange(100, 1100, 100):\n",
    "    rf_2c8 = RandomForestClassifier(class_weight='balanced', random_state=seed, n_estimators=i, max_features=73)\n",
    "    rf_2c8.fit(x_train_scaled, y_train)\n",
    "    training_acc.append(cross_val_score(rf_2c8, x_train_scaled, y_train, cv=cv, scoring='accuracy').mean())\n",
    "    y_pred = rf_2c8.predict(x_test_scaled)\n",
    "    test_acc.append(accuracy_score(y_test, y_pred))\n",
    "print(max(training_acc),(training_acc.index(max(training_acc)))+1) # index starts from 0\n",
    "print(max(test_acc),(test_acc.index(max(test_acc)))+1)\n",
    "plt.figure(figsize=(30, 10))\n",
    "plt.plot(np.arange(100, 1100, 100), training_acc, label=\"training_acc\")\n",
    "plt.plot(np.arange(100, 1100, 100), test_acc, label=\"test_acc\")\n",
    "plt.xlabel(\"max_features\")\n",
    "plt.ylabel(\"Accuracy\")\n",
    "xticks = np.arange(100, 1100, 100)\n",
    "plt.xticks(xticks)\n",
    "plt.legend()"
   ]
  },
  {
   "cell_type": "code",
   "execution_count": 534,
   "id": "82a041a2-9ca9-472c-891b-3b1bc884077c",
   "metadata": {},
   "outputs": [],
   "source": [
    "y_pred_valid = rf_2c8.predict(x_valid_scaled)"
   ]
  },
  {
   "cell_type": "code",
   "execution_count": 535,
   "id": "a0b607eb-be9d-495b-8ae6-debf8d278d98",
   "metadata": {},
   "outputs": [
    {
     "data": {
      "text/plain": [
       "0.7906976744186046"
      ]
     },
     "execution_count": 535,
     "metadata": {},
     "output_type": "execute_result"
    }
   ],
   "source": [
    "accuracy_score(y_valid, y_pred_valid)"
   ]
  },
  {
   "cell_type": "code",
   "execution_count": 536,
   "id": "1a253d0f-5b4e-47d3-a0da-ce214b4066e0",
   "metadata": {},
   "outputs": [
    {
     "data": {
      "text/plain": [
       "0.8747954173486088"
      ]
     },
     "execution_count": 536,
     "metadata": {},
     "output_type": "execute_result"
    }
   ],
   "source": [
    "roc_auc_score(y_valid, rf_2c8.predict_proba(x_valid_scaled)[:,1])"
   ]
  },
  {
   "cell_type": "code",
   "execution_count": 537,
   "id": "13610394-acca-4224-93fb-4d9d3d71764d",
   "metadata": {},
   "outputs": [
    {
     "data": {
      "text/plain": [
       "0.5766123842047292"
      ]
     },
     "execution_count": 537,
     "metadata": {},
     "output_type": "execute_result"
    }
   ],
   "source": [
    "matthews_corrcoef(y_valid, y_pred_valid)"
   ]
  },
  {
   "cell_type": "code",
   "execution_count": 538,
   "id": "eedc1052-ba49-407b-8ec4-9c02f6bc37cc",
   "metadata": {},
   "outputs": [
    {
     "data": {
      "text/plain": [
       "0.851063829787234"
      ]
     },
     "execution_count": 538,
     "metadata": {},
     "output_type": "execute_result"
    }
   ],
   "source": [
    "recall_score(y_valid, y_pred_valid)"
   ]
  },
  {
   "cell_type": "code",
   "execution_count": 539,
   "id": "bc215c01-4b46-4e04-a4cb-6c008bba4d09",
   "metadata": {},
   "outputs": [
    {
     "data": {
      "text/plain": [
       "0.717948717948718"
      ]
     },
     "execution_count": 539,
     "metadata": {},
     "output_type": "execute_result"
    }
   ],
   "source": [
    "recall_score(y_valid, y_pred_valid, pos_label=0)"
   ]
  },
  {
   "cell_type": "code",
   "execution_count": 540,
   "id": "493a2ac5-9236-446b-b225-c5d1a3c49e5f",
   "metadata": {},
   "outputs": [
    {
     "data": {
      "text/plain": [
       "['2c8_rdkit_rf.pkl']"
      ]
     },
     "execution_count": 540,
     "metadata": {},
     "output_type": "execute_result"
    }
   ],
   "source": [
    "dump(rf_2c8, '2c8_rdkit_rf.pkl', compress=3)"
   ]
  },
  {
   "cell_type": "code",
   "execution_count": null,
   "id": "d40a5a32-09c6-4601-8cf4-040869ceb008",
   "metadata": {},
   "outputs": [],
   "source": []
  }
 ],
 "metadata": {
  "kernelspec": {
   "display_name": "Python 3 (ipykernel)",
   "language": "python",
   "name": "python3"
  },
  "language_info": {
   "codemirror_mode": {
    "name": "ipython",
    "version": 3
   },
   "file_extension": ".py",
   "mimetype": "text/x-python",
   "name": "python",
   "nbconvert_exporter": "python",
   "pygments_lexer": "ipython3",
   "version": "3.7.12"
  }
 },
 "nbformat": 4,
 "nbformat_minor": 5
}
