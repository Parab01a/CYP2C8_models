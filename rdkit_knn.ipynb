{
 "cells": [
  {
   "cell_type": "code",
   "execution_count": 1,
   "id": "6d5b1db1-ef9c-4726-9557-0fc678b61f79",
   "metadata": {},
   "outputs": [],
   "source": [
    "from joblib import dump, load"
   ]
  },
  {
   "cell_type": "code",
   "execution_count": 2,
   "id": "8997c021-88e1-46fe-a839-16a8671c5828",
   "metadata": {},
   "outputs": [],
   "source": [
    "x_train = load('x_train_rdkit.pkl')\n",
    "x_test = load('x_test_rdkit.pkl')\n",
    "x_valid = load('x_valid_rdkit.pkl')"
   ]
  },
  {
   "cell_type": "code",
   "execution_count": 3,
   "id": "e8585ef9-2efd-49ba-a7d3-7dcfdd140c51",
   "metadata": {},
   "outputs": [],
   "source": [
    "y_train = load('y_train.pkl')\n",
    "y_test = load('y_test.pkl')\n",
    "y_valid = load('y_valid.pkl')"
   ]
  },
  {
   "cell_type": "code",
   "execution_count": 4,
   "id": "ccfd0af1-0974-4852-86c9-57b0c68b70d5",
   "metadata": {},
   "outputs": [],
   "source": [
    "from sklearn.model_selection import StratifiedKFold, GridSearchCV"
   ]
  },
  {
   "cell_type": "code",
   "execution_count": 5,
   "id": "737f3bfb-e9ea-48ff-b068-6b1019a8df85",
   "metadata": {},
   "outputs": [],
   "source": [
    "seed = 42"
   ]
  },
  {
   "cell_type": "code",
   "execution_count": 6,
   "id": "34b74523-3918-45c9-b02b-9b68688b68f2",
   "metadata": {},
   "outputs": [
    {
     "name": "stderr",
     "output_type": "stream",
     "text": [
      "D:\\Anaconda3\\envs\\deepchem\\lib\\site-packages\\sklearn\\model_selection\\_split.py:296: FutureWarning: Setting a random_state has no effect since shuffle is False. This will raise an error in 0.24. You should leave random_state to its default (None), or set shuffle=True.\n",
      "  FutureWarning\n"
     ]
    }
   ],
   "source": [
    "cv = StratifiedKFold(n_splits=10, random_state=seed)"
   ]
  },
  {
   "cell_type": "code",
   "execution_count": 7,
   "id": "1de2ff23-5470-4f53-ae1e-726198dba1f0",
   "metadata": {},
   "outputs": [],
   "source": [
    "from sklearn.preprocessing import StandardScaler"
   ]
  },
  {
   "cell_type": "code",
   "execution_count": 8,
   "id": "d0d3a4ca-7b7a-4f23-a8ff-0b1759aac21d",
   "metadata": {},
   "outputs": [],
   "source": [
    "scale = StandardScaler().fit(x_train)\n",
    "x_train_scaled = scale.transform(x_train)\n",
    "x_test_scaled = scale.transform(x_test)\n",
    "x_valid_scaled = scale.transform(x_valid)"
   ]
  },
  {
   "cell_type": "code",
   "execution_count": 9,
   "id": "8f2556ef-208a-4749-9ac0-2905028025d3",
   "metadata": {},
   "outputs": [],
   "source": [
    "from sklearn.neighbors import KNeighborsClassifier\n",
    "import numpy as np"
   ]
  },
  {
   "cell_type": "code",
   "execution_count": 48,
   "id": "63f93c22-60ca-407d-b798-a76dce8ec7cd",
   "metadata": {},
   "outputs": [],
   "source": [
    "param_grid = {'p': np.arange(1, 11, 1)}"
   ]
  },
  {
   "cell_type": "code",
   "execution_count": 49,
   "id": "c9e3b3cd-449a-4435-aa9f-c96c2d303593",
   "metadata": {},
   "outputs": [],
   "source": [
    "knn = GridSearchCV(KNeighborsClassifier(n_neighbors=4, weights='distance'), param_grid=param_grid, cv=cv, n_jobs=-1, verbose=1)"
   ]
  },
  {
   "cell_type": "code",
   "execution_count": 50,
   "id": "8e00e0a6-949b-4239-8ce2-58fe00884311",
   "metadata": {},
   "outputs": [
    {
     "name": "stdout",
     "output_type": "stream",
     "text": [
      "Fitting 10 folds for each of 10 candidates, totalling 100 fits\n"
     ]
    },
    {
     "name": "stderr",
     "output_type": "stream",
     "text": [
      "[Parallel(n_jobs=-1)]: Using backend LokyBackend with 20 concurrent workers.\n",
      "[Parallel(n_jobs=-1)]: Done  10 tasks      | elapsed:    2.5s\n",
      "[Parallel(n_jobs=-1)]: Done 100 out of 100 | elapsed:    4.6s finished\n"
     ]
    },
    {
     "data": {
      "text/plain": [
       "GridSearchCV(cv=StratifiedKFold(n_splits=10, random_state=42, shuffle=False),\n",
       "             error_score=nan,\n",
       "             estimator=KNeighborsClassifier(algorithm='auto', leaf_size=30,\n",
       "                                            metric='minkowski',\n",
       "                                            metric_params=None, n_jobs=None,\n",
       "                                            n_neighbors=4, p=2,\n",
       "                                            weights='distance'),\n",
       "             iid='deprecated', n_jobs=-1,\n",
       "             param_grid={'p': array([ 1,  2,  3,  4,  5,  6,  7,  8,  9, 10])},\n",
       "             pre_dispatch='2*n_jobs', refit=True, return_train_score=False,\n",
       "             scoring=None, verbose=1)"
      ]
     },
     "execution_count": 50,
     "metadata": {},
     "output_type": "execute_result"
    }
   ],
   "source": [
    "knn.fit(x_train_scaled, y_train)"
   ]
  },
  {
   "cell_type": "code",
   "execution_count": 51,
   "id": "ba72641f-4d3b-454b-ad27-748daaf9e576",
   "metadata": {},
   "outputs": [
    {
     "data": {
      "text/plain": [
       "{'p': 4}"
      ]
     },
     "execution_count": 51,
     "metadata": {},
     "output_type": "execute_result"
    }
   ],
   "source": [
    "knn.best_params_"
   ]
  },
  {
   "cell_type": "code",
   "execution_count": 52,
   "id": "042bc1d5-d2c2-42c9-8a54-36c12b557e1a",
   "metadata": {},
   "outputs": [
    {
     "data": {
      "text/plain": [
       "0.8058823529411765"
      ]
     },
     "execution_count": 52,
     "metadata": {},
     "output_type": "execute_result"
    }
   ],
   "source": [
    "knn.best_score_"
   ]
  },
  {
   "cell_type": "code",
   "execution_count": 67,
   "id": "276f340f-c162-46b0-a666-a823aa57cab4",
   "metadata": {},
   "outputs": [
    {
     "data": {
      "text/plain": [
       "array([0.79411765, 0.78529412, 0.79705882, 0.80588235, 0.79117647,\n",
       "       0.78823529, 0.77058824, 0.77058824, 0.77647059, 0.77647059])"
      ]
     },
     "execution_count": 67,
     "metadata": {},
     "output_type": "execute_result"
    }
   ],
   "source": [
    "knn.cv_results_['mean_test_score']"
   ]
  },
  {
   "cell_type": "code",
   "execution_count": 68,
   "id": "391e9674-5a6d-49cd-9009-15914bb90062",
   "metadata": {},
   "outputs": [
    {
     "data": {
      "text/plain": [
       "[{'p': 1},\n",
       " {'p': 2},\n",
       " {'p': 3},\n",
       " {'p': 4},\n",
       " {'p': 5},\n",
       " {'p': 6},\n",
       " {'p': 7},\n",
       " {'p': 8},\n",
       " {'p': 9},\n",
       " {'p': 10}]"
      ]
     },
     "execution_count": 68,
     "metadata": {},
     "output_type": "execute_result"
    }
   ],
   "source": [
    "knn.cv_results_['params']"
   ]
  },
  {
   "cell_type": "code",
   "execution_count": 154,
   "id": "67571f25-57ea-4ad4-a5cf-6f9f830a5fcf",
   "metadata": {},
   "outputs": [],
   "source": [
    "knn_2c8 = KNeighborsClassifier(n_neighbors=4, weights='distance', p=1)"
   ]
  },
  {
   "cell_type": "code",
   "execution_count": 155,
   "id": "0cdb5a20-2708-416a-845c-31f8776b868d",
   "metadata": {},
   "outputs": [
    {
     "data": {
      "text/plain": [
       "KNeighborsClassifier(algorithm='auto', leaf_size=30, metric='minkowski',\n",
       "                     metric_params=None, n_jobs=None, n_neighbors=4, p=1,\n",
       "                     weights='distance')"
      ]
     },
     "execution_count": 155,
     "metadata": {},
     "output_type": "execute_result"
    }
   ],
   "source": [
    "knn_2c8.fit(x_train_scaled, y_train)"
   ]
  },
  {
   "cell_type": "code",
   "execution_count": 17,
   "id": "26f8766c-4b12-49e8-8910-c08ae7c00341",
   "metadata": {},
   "outputs": [],
   "source": [
    "from sklearn.model_selection import cross_val_score\n",
    "from sklearn.metrics import matthews_corrcoef, accuracy_score, roc_auc_score, make_scorer, recall_score"
   ]
  },
  {
   "cell_type": "code",
   "execution_count": 18,
   "id": "d44182f6-9117-4bf5-bc49-8916f25866c5",
   "metadata": {},
   "outputs": [],
   "source": [
    "matthews = make_scorer(matthews_corrcoef)\n",
    "specificity = make_scorer(recall_score, pos_label=0)"
   ]
  },
  {
   "cell_type": "code",
   "execution_count": 156,
   "id": "3034afed-fb08-4ae3-b291-257468e580f4",
   "metadata": {},
   "outputs": [
    {
     "data": {
      "text/plain": [
       "0.7941176470588235"
      ]
     },
     "execution_count": 156,
     "metadata": {},
     "output_type": "execute_result"
    }
   ],
   "source": [
    "cross_val_score(knn_2c8, x_train_scaled, y_train, cv=cv, scoring='accuracy').mean()"
   ]
  },
  {
   "cell_type": "code",
   "execution_count": 157,
   "id": "733f9f8d-449c-402a-9e7c-0e609a5ae448",
   "metadata": {},
   "outputs": [
    {
     "data": {
      "text/plain": [
       "0.8446491228070176"
      ]
     },
     "execution_count": 157,
     "metadata": {},
     "output_type": "execute_result"
    }
   ],
   "source": [
    "cross_val_score(knn_2c8, x_train_scaled, y_train, cv=cv, scoring='roc_auc').mean()"
   ]
  },
  {
   "cell_type": "code",
   "execution_count": 158,
   "id": "072adcc4-c4bf-415b-9f63-bd78836d2e5b",
   "metadata": {},
   "outputs": [
    {
     "data": {
      "text/plain": [
       "0.5884729368445946"
      ]
     },
     "execution_count": 158,
     "metadata": {},
     "output_type": "execute_result"
    }
   ],
   "source": [
    "cross_val_score(knn_2c8, x_train_scaled, y_train, cv=cv, scoring=matthews).mean()"
   ]
  },
  {
   "cell_type": "code",
   "execution_count": 159,
   "id": "2d3a862d-86c8-433d-a5fd-a6134576f68d",
   "metadata": {},
   "outputs": [
    {
     "data": {
      "text/plain": [
       "0.7942105263157895"
      ]
     },
     "execution_count": 159,
     "metadata": {},
     "output_type": "execute_result"
    }
   ],
   "source": [
    "cross_val_score(knn_2c8, x_train_scaled, y_train, cv=cv, scoring='recall').mean()"
   ]
  },
  {
   "cell_type": "code",
   "execution_count": 160,
   "id": "76f4cb14-7d05-4102-bcaa-4052d202f003",
   "metadata": {},
   "outputs": [
    {
     "data": {
      "text/plain": [
       "0.7952380952380952"
      ]
     },
     "execution_count": 160,
     "metadata": {},
     "output_type": "execute_result"
    }
   ],
   "source": [
    "cross_val_score(knn_2c8, x_train_scaled, y_train, cv=cv, scoring=specificity).mean()"
   ]
  },
  {
   "cell_type": "code",
   "execution_count": 161,
   "id": "4d039f60-5e28-45da-9d61-66fca3993e5a",
   "metadata": {},
   "outputs": [],
   "source": [
    "y_pred = knn_2c8.predict(x_test_scaled)"
   ]
  },
  {
   "cell_type": "code",
   "execution_count": 162,
   "id": "f79b596f-ebe2-4f01-8737-7d48229851f4",
   "metadata": {},
   "outputs": [
    {
     "data": {
      "text/plain": [
       "array([1, 1, 1, 0, 0, 1, 0, 0, 0, 1, 0, 1, 1, 0, 1, 1, 1, 1, 0, 0, 1, 1,\n",
       "       0, 1, 0, 1, 1, 0, 0, 1, 0, 0, 1, 1, 0, 1, 0, 1, 1, 1, 1, 1, 0, 1,\n",
       "       1, 0, 1, 1, 0, 0, 1, 1, 0, 1, 1, 1, 0, 0, 0, 0, 0, 1, 0, 0, 0, 0,\n",
       "       0, 1, 1, 1, 1, 1, 1, 1, 0, 0, 1, 0, 1, 0, 0, 1, 1, 0, 0, 1, 1, 0,\n",
       "       1, 0, 1, 0, 0, 1, 0, 1, 1, 1, 1, 1, 1, 0, 1, 1, 0, 0, 0])"
      ]
     },
     "execution_count": 162,
     "metadata": {},
     "output_type": "execute_result"
    }
   ],
   "source": [
    "y_pred"
   ]
  },
  {
   "cell_type": "code",
   "execution_count": 163,
   "id": "4e69b9d4-d83e-47ac-9098-df4c141ebfbd",
   "metadata": {},
   "outputs": [
    {
     "data": {
      "text/plain": [
       "0.7850467289719626"
      ]
     },
     "execution_count": 163,
     "metadata": {},
     "output_type": "execute_result"
    }
   ],
   "source": [
    "accuracy_score(y_test, y_pred)"
   ]
  },
  {
   "cell_type": "code",
   "execution_count": 164,
   "id": "31e70b9d-6d86-4ba5-8c8d-208be8643701",
   "metadata": {},
   "outputs": [
    {
     "data": {
      "text/plain": [
       "0.832039911308204"
      ]
     },
     "execution_count": 164,
     "metadata": {},
     "output_type": "execute_result"
    }
   ],
   "source": [
    "roc_auc_score(y_test, knn_2c8.predict_proba(x_test_scaled)[:,1])"
   ]
  },
  {
   "cell_type": "code",
   "execution_count": 165,
   "id": "e183ffad-4833-40a2-95e9-4189743adc54",
   "metadata": {},
   "outputs": [
    {
     "data": {
      "text/plain": [
       "0.564609859025163"
      ]
     },
     "execution_count": 165,
     "metadata": {},
     "output_type": "execute_result"
    }
   ],
   "source": [
    "matthews_corrcoef(y_test, y_pred)"
   ]
  },
  {
   "cell_type": "code",
   "execution_count": 166,
   "id": "941ab1d0-3c21-44a4-8df3-4fe28174b313",
   "metadata": {},
   "outputs": [
    {
     "data": {
      "text/plain": [
       "0.7727272727272727"
      ]
     },
     "execution_count": 166,
     "metadata": {},
     "output_type": "execute_result"
    }
   ],
   "source": [
    "recall_score(y_test, y_pred)"
   ]
  },
  {
   "cell_type": "code",
   "execution_count": 167,
   "id": "52ce0dc0-12e5-435e-a0d2-abf1fad2c74a",
   "metadata": {},
   "outputs": [
    {
     "data": {
      "text/plain": [
       "0.8048780487804879"
      ]
     },
     "execution_count": 167,
     "metadata": {},
     "output_type": "execute_result"
    }
   ],
   "source": [
    "recall_score(y_test, y_pred, pos_label=0)"
   ]
  },
  {
   "cell_type": "code",
   "execution_count": 83,
   "id": "21a5842f-3c3c-4336-8154-6f2c54f5cedc",
   "metadata": {},
   "outputs": [],
   "source": [
    "import matplotlib.pyplot as plt"
   ]
  },
  {
   "cell_type": "code",
   "execution_count": 151,
   "id": "8c6a4805-7152-4846-ad68-754d05dd0f31",
   "metadata": {},
   "outputs": [
    {
     "name": "stdout",
     "output_type": "stream",
     "text": [
      "0.7941176470588235 4\n",
      "0.822429906542056 5\n"
     ]
    },
    {
     "data": {
      "text/plain": [
       "<matplotlib.legend.Legend at 0x2c17369f508>"
      ]
     },
     "execution_count": 151,
     "metadata": {},
     "output_type": "execute_result"
    },
    {
     "data": {
      "image/png": "[encoded data removed]",
      "text/plain": [
       "<Figure size 3000x1000 with 1 Axes>"
      ]
     },
     "metadata": {},
     "output_type": "display_data"
    }
   ],
   "source": [
    "training_acc = []\n",
    "test_acc = []\n",
    "\n",
    "for i in np.arange(1, 11, 1):\n",
    "    knn_2c8 = KNeighborsClassifier(n_neighbors=i, weights='distance', p=1)\n",
    "    knn_2c8.fit(x_train_scaled, y_train)\n",
    "    training_acc.append(cross_val_score(knn_2c8, x_train_scaled, y_train, cv=cv, scoring='accuracy').mean())\n",
    "    y_pred = knn_2c8.predict(x_test_scaled)\n",
    "    test_acc.append(accuracy_score(y_test, y_pred))\n",
    "print(max(training_acc),(training_acc.index(max(training_acc)))+1) # index starts from 0\n",
    "print(max(test_acc),(test_acc.index(max(test_acc)))+1)\n",
    "plt.figure(figsize=(30, 10))\n",
    "plt.plot(np.arange(1, 11, 1), training_acc, label=\"training_acc\")\n",
    "plt.plot(np.arange(1, 11, 1), test_acc, label=\"test_acc\")\n",
    "plt.xlabel(\"n_neighbors\")\n",
    "plt.ylabel(\"Accuracy\")\n",
    "xticks = np.arange(1, 11, 1)\n",
    "plt.xticks(xticks)\n",
    "plt.legend()"
   ]
  },
  {
   "cell_type": "code",
   "execution_count": 169,
   "id": "a9b1a3d4-20b7-4374-a9dd-c39583931dd0",
   "metadata": {},
   "outputs": [],
   "source": [
    "y_pred_valid = knn_2c8.predict(x_valid_scaled)"
   ]
  },
  {
   "cell_type": "code",
   "execution_count": 170,
   "id": "475ff1e6-68ba-4e13-845e-c7d37fd8bfa2",
   "metadata": {},
   "outputs": [
    {
     "data": {
      "text/plain": [
       "0.8023255813953488"
      ]
     },
     "execution_count": 170,
     "metadata": {},
     "output_type": "execute_result"
    }
   ],
   "source": [
    "accuracy_score(y_valid, y_pred_valid)"
   ]
  },
  {
   "cell_type": "code",
   "execution_count": 171,
   "id": "1ae204a0-26d2-450c-9a5e-6e1c4f72c7d4",
   "metadata": {},
   "outputs": [
    {
     "data": {
      "text/plain": [
       "0.832039911308204"
      ]
     },
     "execution_count": 171,
     "metadata": {},
     "output_type": "execute_result"
    }
   ],
   "source": [
    "roc_auc_score(y_test, knn_2c8.predict_proba(x_test_scaled)[:,1])"
   ]
  },
  {
   "cell_type": "code",
   "execution_count": 172,
   "id": "b22bd3ec-0cdb-490a-aa8e-4164957a9f72",
   "metadata": {},
   "outputs": [
    {
     "data": {
      "text/plain": [
       "0.564609859025163"
      ]
     },
     "execution_count": 172,
     "metadata": {},
     "output_type": "execute_result"
    }
   ],
   "source": [
    "matthews_corrcoef(y_test, y_pred)"
   ]
  },
  {
   "cell_type": "code",
   "execution_count": 173,
   "id": "c36b2307-0fc6-4787-8134-42c3f2c406d1",
   "metadata": {},
   "outputs": [
    {
     "data": {
      "text/plain": [
       "0.7727272727272727"
      ]
     },
     "execution_count": 173,
     "metadata": {},
     "output_type": "execute_result"
    }
   ],
   "source": [
    "recall_score(y_test, y_pred)"
   ]
  },
  {
   "cell_type": "code",
   "execution_count": 174,
   "id": "15ef2dfd-b9b3-4b8e-8c42-348f4d08412a",
   "metadata": {},
   "outputs": [
    {
     "data": {
      "text/plain": [
       "0.8048780487804879"
      ]
     },
     "execution_count": 174,
     "metadata": {},
     "output_type": "execute_result"
    }
   ],
   "source": [
    "recall_score(y_test, y_pred, pos_label=0)"
   ]
  },
  {
   "cell_type": "code",
   "execution_count": 175,
   "id": "54335214-e951-4ab7-af5e-8df314f21b85",
   "metadata": {},
   "outputs": [
    {
     "data": {
      "text/plain": [
       "['2c8_rdkit_knn.pkl']"
      ]
     },
     "execution_count": 175,
     "metadata": {},
     "output_type": "execute_result"
    }
   ],
   "source": [
    "dump(knn_2c8, '2c8_rdkit_knn.pkl', compress=3)"
   ]
  },
  {
   "cell_type": "code",
   "execution_count": null,
   "id": "a2a93f65-e3ee-4788-8b25-3e0dfd988647",
   "metadata": {},
   "outputs": [],
   "source": []
  }
 ],
 "metadata": {
  "kernelspec": {
   "display_name": "Python 3 (ipykernel)",
   "language": "python",
   "name": "python3"
  },
  "language_info": {
   "codemirror_mode": {
    "name": "ipython",
    "version": 3
   },
   "file_extension": ".py",
   "mimetype": "text/x-python",
   "name": "python",
   "nbconvert_exporter": "python",
   "pygments_lexer": "ipython3",
   "version": "3.7.12"
  }
 },
 "nbformat": 4,
 "nbformat_minor": 5
}
